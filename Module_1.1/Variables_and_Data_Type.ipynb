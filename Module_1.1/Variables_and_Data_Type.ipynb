{
 "cells": [
  {
   "cell_type": "markdown",
   "id": "e5fa02ae",
   "metadata": {},
   "source": [
    "## Variable and data type"
   ]
  },
  {
   "cell_type": "code",
   "execution_count": 1,
   "id": "f141eeea",
   "metadata": {},
   "outputs": [
    {
     "name": "stdout",
     "output_type": "stream",
     "text": [
      "Hellow world\n"
     ]
    }
   ],
   "source": [
    "print(\"Hellow world\")"
   ]
  },
  {
   "cell_type": "code",
   "execution_count": 6,
   "id": "ede007dd",
   "metadata": {},
   "outputs": [
    {
     "name": "stdout",
     "output_type": "stream",
     "text": [
      "2\n",
      "<class 'int'>\n"
     ]
    }
   ],
   "source": [
    "# int \n",
    "# score = int(2) \n",
    "score = 2 \n",
    "print(score)\n",
    "print(type(score))"
   ]
  },
  {
   "cell_type": "code",
   "execution_count": 9,
   "id": "40fd43f3",
   "metadata": {},
   "outputs": [
    {
     "name": "stdout",
     "output_type": "stream",
     "text": [
      "3.5\n",
      "<class 'float'>\n"
     ]
    }
   ],
   "source": [
    "# float \n",
    "# point = float(3.5)\n",
    "point = 3.5\n",
    "print(point)\n",
    "print(type(point))"
   ]
  },
  {
   "cell_type": "code",
   "execution_count": 12,
   "id": "3e799471",
   "metadata": {},
   "outputs": [
    {
     "name": "stdout",
     "output_type": "stream",
     "text": [
      "team 7\n",
      "<class 'str'>\n"
     ]
    }
   ],
   "source": [
    "# string \n",
    "# team = str(\"team 7\")\n",
    "team = \"team 7\"\n",
    "\n",
    "print(team)\n",
    "print(type(team))"
   ]
  },
  {
   "cell_type": "code",
   "execution_count": 15,
   "id": "bc8b3741",
   "metadata": {},
   "outputs": [
    {
     "name": "stdout",
     "output_type": "stream",
     "text": [
      "True\n",
      "<class 'bool'>\n"
     ]
    }
   ],
   "source": [
    "# bool \n",
    "# is_in_semifinal = bool(True)\n",
    "is_in_semifinal = True\n",
    "print(is_in_semifinal)\n",
    "print(type(is_in_semifinal))"
   ]
  }
 ],
 "metadata": {
  "kernelspec": {
   "display_name": ".venv",
   "language": "python",
   "name": "python3"
  },
  "language_info": {
   "codemirror_mode": {
    "name": "ipython",
    "version": 3
   },
   "file_extension": ".py",
   "mimetype": "text/x-python",
   "name": "python",
   "nbconvert_exporter": "python",
   "pygments_lexer": "ipython3",
   "version": "3.12.3"
  }
 },
 "nbformat": 4,
 "nbformat_minor": 5
}
