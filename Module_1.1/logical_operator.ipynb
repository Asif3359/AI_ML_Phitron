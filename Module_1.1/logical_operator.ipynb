{
 "cells": [
  {
   "cell_type": "markdown",
   "id": "8c4630b2",
   "metadata": {},
   "source": [
    "## Logical Operator and Precendence,Associativity"
   ]
  },
  {
   "cell_type": "code",
   "execution_count": 3,
   "id": "43df6d99",
   "metadata": {},
   "outputs": [
    {
     "name": "stdout",
     "output_type": "stream",
     "text": [
      "True\n"
     ]
    }
   ],
   "source": [
    "x = 10 \n",
    "y = 5 \n",
    "z = 3 \n",
    "\n",
    "result = (x>y) and (x>z)\n",
    "\n",
    "print(result)"
   ]
  },
  {
   "cell_type": "code",
   "execution_count": null,
   "id": "45579e7e",
   "metadata": {},
   "outputs": [
    {
     "name": "stdout",
     "output_type": "stream",
     "text": [
      "True\n"
     ]
    }
   ],
   "source": [
    "x = 10 \n",
    "y = 5 \n",
    "z = 3 \n",
    "\n",
    "result = (x>y) or (x>z)\n",
    "\n",
    "print(result)"
   ]
  },
  {
   "cell_type": "code",
   "execution_count": 6,
   "id": "a1e74e3d",
   "metadata": {},
   "outputs": [
    {
     "name": "stdout",
     "output_type": "stream",
     "text": [
      "False\n"
     ]
    }
   ],
   "source": [
    "x = 10 \n",
    "y = 20 \n",
    "z = 15\n",
    "\n",
    "result = (x>y) or (x>z)\n",
    "\n",
    "print(result)"
   ]
  },
  {
   "cell_type": "markdown",
   "id": "73c34237",
   "metadata": {},
   "source": [
    "## precedence and associativity "
   ]
  },
  {
   "cell_type": "code",
   "execution_count": 10,
   "id": "3e302a3b",
   "metadata": {},
   "outputs": [
    {
     "name": "stdout",
     "output_type": "stream",
     "text": [
      "0.0\n"
     ]
    }
   ],
   "source": [
    "ans = (10 + 10)/2 - 5*2 \n",
    "print(ans)"
   ]
  }
 ],
 "metadata": {
  "kernelspec": {
   "display_name": ".venv",
   "language": "python",
   "name": "python3"
  },
  "language_info": {
   "codemirror_mode": {
    "name": "ipython",
    "version": 3
   },
   "file_extension": ".py",
   "mimetype": "text/x-python",
   "name": "python",
   "nbconvert_exporter": "python",
   "pygments_lexer": "ipython3",
   "version": "3.12.3"
  }
 },
 "nbformat": 4,
 "nbformat_minor": 5
}
