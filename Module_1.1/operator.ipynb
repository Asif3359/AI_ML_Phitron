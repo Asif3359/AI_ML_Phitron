{
 "cells": [
  {
   "cell_type": "markdown",
   "id": "f295f166",
   "metadata": {},
   "source": [
    "## Operator In python"
   ]
  },
  {
   "cell_type": "code",
   "execution_count": 3,
   "id": "03085878",
   "metadata": {},
   "outputs": [
    {
     "name": "stdout",
     "output_type": "stream",
     "text": [
      "13 7 30 3.33 1\n"
     ]
    }
   ],
   "source": [
    "x = 10 \n",
    "y = 3 \n",
    "\n",
    "sum = x + y # summetion\n",
    "sub = x - y # substraction\n",
    "mult = x * y # multiplication\n",
    "div = round(x / y , 2)# division\n",
    "\n",
    "mod = x % y # remainder\n",
    "\n",
    "\n",
    "print(sum, sub, mult, div, mod)\n"
   ]
  },
  {
   "cell_type": "code",
   "execution_count": 7,
   "id": "a5ff7b10",
   "metadata": {},
   "outputs": [
    {
     "name": "stdout",
     "output_type": "stream",
     "text": [
      "True True\n",
      "False True\n",
      "False\n",
      "True\n"
     ]
    }
   ],
   "source": [
    "x = 10 \n",
    "y = 3 \n",
    "\n",
    "grater_than = x > y \n",
    "grater_than_or_equal = 10 >= 10 \n",
    "\n",
    "less_than = x < y \n",
    "less_than_or_equal = 10 <= 10 \n",
    "\n",
    "equal = x == y\n",
    "not_equal = x!=y \n",
    "\n",
    "print(grater_than, grater_than_or_equal)\n",
    "print(less_than, less_than_or_equal)\n",
    "print(equal)\n",
    "print(not_equal)"
   ]
  }
 ],
 "metadata": {
  "kernelspec": {
   "display_name": ".venv",
   "language": "python",
   "name": "python3"
  },
  "language_info": {
   "codemirror_mode": {
    "name": "ipython",
    "version": 3
   },
   "file_extension": ".py",
   "mimetype": "text/x-python",
   "name": "python",
   "nbconvert_exporter": "python",
   "pygments_lexer": "ipython3",
   "version": "3.12.3"
  }
 },
 "nbformat": 4,
 "nbformat_minor": 5
}
