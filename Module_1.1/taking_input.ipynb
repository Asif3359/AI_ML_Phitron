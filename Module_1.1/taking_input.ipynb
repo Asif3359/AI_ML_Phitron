{
 "cells": [
  {
   "cell_type": "markdown",
   "id": "307c43ba",
   "metadata": {},
   "source": [
    "## Taking input"
   ]
  },
  {
   "cell_type": "code",
   "execution_count": null,
   "id": "666310c3",
   "metadata": {},
   "outputs": [
    {
     "name": "stdout",
     "output_type": "stream",
     "text": [
      "Hello Asif Ahammad\n",
      "<class 'str'>\n"
     ]
    }
   ],
   "source": [
    "name = input(\"Enter your name :\")\n",
    "print(f\"Hello {name}\")\n",
    "print(type(name))"
   ]
  },
  {
   "cell_type": "code",
   "execution_count": 3,
   "id": "03d17736",
   "metadata": {},
   "outputs": [
    {
     "name": "stdout",
     "output_type": "stream",
     "text": [
      "Your age 12\n",
      "<class 'str'>\n"
     ]
    }
   ],
   "source": [
    "age = input(\"Enter your age :\")\n",
    "print(f\"Your age {age}\")\n",
    "print(type(age))"
   ]
  },
  {
   "cell_type": "code",
   "execution_count": 5,
   "id": "7cfdc09c",
   "metadata": {},
   "outputs": [
    {
     "name": "stdout",
     "output_type": "stream",
     "text": [
      "Your age 12\n",
      "<class 'int'>\n"
     ]
    }
   ],
   "source": [
    "age = int(input(\"Enter your age :\"))\n",
    "print(f\"Your age {age}\")\n",
    "print(type(age))"
   ]
  },
  {
   "cell_type": "code",
   "execution_count": 6,
   "id": "2477afe2",
   "metadata": {},
   "outputs": [
    {
     "name": "stdout",
     "output_type": "stream",
     "text": [
      "Your hight 12.3\n",
      "<class 'float'>\n"
     ]
    }
   ],
   "source": [
    "hight = float(input(\"Enter your hight :\"))\n",
    "print(f\"Your hight {hight}\")\n",
    "print(type(hight))"
   ]
  },
  {
   "cell_type": "code",
   "execution_count": null,
   "id": "a5a20c1c",
   "metadata": {},
   "outputs": [
    {
     "name": "stdout",
     "output_type": "stream",
     "text": [
      "Your is_pass True\n",
      "<class 'bool'>\n"
     ]
    }
   ],
   "source": [
    "is_pass = bool(input(\"Enter your is_pass :\"))\n",
    "print(f\" Student is pass {is_pass}\")\n",
    "print(type(is_pass))"
   ]
  }
 ],
 "metadata": {
  "kernelspec": {
   "display_name": ".venv",
   "language": "python",
   "name": "python3"
  },
  "language_info": {
   "codemirror_mode": {
    "name": "ipython",
    "version": 3
   },
   "file_extension": ".py",
   "mimetype": "text/x-python",
   "name": "python",
   "nbconvert_exporter": "python",
   "pygments_lexer": "ipython3",
   "version": "3.12.3"
  }
 },
 "nbformat": 4,
 "nbformat_minor": 5
}
