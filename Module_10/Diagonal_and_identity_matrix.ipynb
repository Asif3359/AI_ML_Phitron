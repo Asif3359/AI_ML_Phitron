{
 "cells": [
  {
   "cell_type": "markdown",
   "id": "2ceca140",
   "metadata": {},
   "source": [
    "## creating diagonal matrix"
   ]
  },
  {
   "cell_type": "code",
   "execution_count": 12,
   "id": "871c82bf",
   "metadata": {},
   "outputs": [
    {
     "name": "stdout",
     "output_type": "stream",
     "text": [
      "[[1 0 0 0]\n",
      " [0 2 0 0]\n",
      " [0 0 3 0]\n",
      " [0 0 0 4]]\n",
      "(4, 4)\n",
      "2\n",
      "16\n",
      "int64\n"
     ]
    }
   ],
   "source": [
    "## creating diagonal matrix\n",
    "import numpy as np\n",
    "diagonal_matrix = np.diag([1,2,3,4])\n",
    "print(diagonal_matrix)\n",
    "print(diagonal_matrix.shape)\n",
    "print(diagonal_matrix.ndim)\n",
    "print(diagonal_matrix.size)\n",
    "print(diagonal_matrix.dtype)"
   ]
  },
  {
   "cell_type": "markdown",
   "id": "8eab51e0",
   "metadata": {},
   "source": [
    "## identity matrix"
   ]
  },
  {
   "cell_type": "code",
   "execution_count": 17,
   "id": "4d4e6d4d",
   "metadata": {},
   "outputs": [
    {
     "name": "stdout",
     "output_type": "stream",
     "text": [
      "[[1. 0. 0.]\n",
      " [0. 1. 0.]\n",
      " [0. 0. 1.]]\n",
      "(3, 3)\n",
      "2\n",
      "9\n",
      "float64\n"
     ]
    }
   ],
   "source": [
    "# creating identity matrix\n",
    "identity_matrix = np.eye(3)\n",
    "print(identity_matrix)\n",
    "print(identity_matrix.shape)\n",
    "print(identity_matrix.ndim)\n",
    "print(identity_matrix.size)\n",
    "print(identity_matrix.dtype)\n"
   ]
  },
  {
   "cell_type": "code",
   "execution_count": 18,
   "id": "d9b87b72",
   "metadata": {},
   "outputs": [
    {
     "name": "stdout",
     "output_type": "stream",
     "text": [
      "[[1. 0. 0. 0.]\n",
      " [0. 1. 0. 0.]\n",
      " [0. 0. 1. 0.]]\n"
     ]
    }
   ],
   "source": [
    "\n",
    "identity_matrix = np.eye(3,4)\n",
    "print(identity_matrix)\n"
   ]
  },
  {
   "cell_type": "code",
   "execution_count": 19,
   "id": "3b5b34b9",
   "metadata": {},
   "outputs": [
    {
     "name": "stdout",
     "output_type": "stream",
     "text": [
      "[[0. 0. 0. 0.]\n",
      " [1. 0. 0. 0.]\n",
      " [0. 1. 0. 0.]]\n"
     ]
    }
   ],
   "source": [
    "\n",
    "identity_matrix = np.eye(3,4,-1)\n",
    "print(identity_matrix)\n"
   ]
  },
  {
   "cell_type": "code",
   "execution_count": 20,
   "id": "c4abd53d",
   "metadata": {},
   "outputs": [
    {
     "name": "stdout",
     "output_type": "stream",
     "text": [
      "[[0. 1. 0. 0.]\n",
      " [0. 0. 1. 0.]\n",
      " [0. 0. 0. 1.]]\n"
     ]
    }
   ],
   "source": [
    "\n",
    "identity_matrix = np.eye(3,4,1)\n",
    "print(identity_matrix)\n"
   ]
  },
  {
   "cell_type": "code",
   "execution_count": null,
   "id": "140a2115",
   "metadata": {},
   "outputs": [],
   "source": []
  }
 ],
 "metadata": {
  "kernelspec": {
   "display_name": "Python 3 (ipykernel)",
   "language": "python",
   "name": "python3"
  },
  "language_info": {
   "codemirror_mode": {
    "name": "ipython",
    "version": 3
   },
   "file_extension": ".py",
   "mimetype": "text/x-python",
   "name": "python",
   "nbconvert_exporter": "python",
   "pygments_lexer": "ipython3",
   "version": "3.13.5"
  }
 },
 "nbformat": 4,
 "nbformat_minor": 5
}
