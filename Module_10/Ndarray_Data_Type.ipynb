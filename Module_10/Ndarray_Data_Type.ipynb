{
 "cells": [
  {
   "cell_type": "code",
   "execution_count": 9,
   "id": "8306c79b-e0e7-429b-9f5c-1cf4228e44d8",
   "metadata": {},
   "outputs": [
    {
     "name": "stdout",
     "output_type": "stream",
     "text": [
      "int64\n",
      "float64\n",
      "float64\n",
      "<U21\n",
      "<U32\n"
     ]
    }
   ],
   "source": [
    "# Ndarray Data Type\n",
    "\n",
    "import numpy as np \n",
    "\n",
    "arr1 = np.array([1,2,3,4,5,6]) # 1D array\n",
    "print(arr1.dtype)\n",
    "\n",
    "arr1 = np.array([1.2,2.3,3.1,4.5,5.9,6.4]) # 1D array\n",
    "print(arr1.dtype)\n",
    "\n",
    "# upcasting to float\n",
    "arr1 = np.array([1.2,2,3,4,5,6]) # 1D array\n",
    "print(arr1.dtype)\n",
    "\n",
    "# upcasting to string\n",
    "arr1 = np.array([1,2,3,4,5,'3']) # 1D array\n",
    "print(arr1.dtype)\n",
    "\n",
    "# upcasting to string\n",
    "arr1 = np.array([1,2,3.3,4,5,'3']) # 1D array\n",
    "print(arr1.dtype)"
   ]
  },
  {
   "cell_type": "code",
   "execution_count": 13,
   "id": "939c6a0a-a787-407f-be4e-94b0faa35832",
   "metadata": {},
   "outputs": [
    {
     "name": "stdout",
     "output_type": "stream",
     "text": [
      "int64\n",
      "[  1   2   3   4   5 306]\n"
     ]
    }
   ],
   "source": [
    "# selecting a datatype for an array \n",
    "\n",
    "arr1 = np.array([1,2,3,4,5,306], dtype=np.int16) # 1D array\n",
    "\n",
    "arr1 = arr1.astype(np.int64)\n",
    "print(arr1.dtype)\n",
    "print(arr1)"
   ]
  }
 ],
 "metadata": {
  "kernelspec": {
   "display_name": "Python 3 (ipykernel)",
   "language": "python",
   "name": "python3"
  },
  "language_info": {
   "codemirror_mode": {
    "name": "ipython",
    "version": 3
   },
   "file_extension": ".py",
   "mimetype": "text/x-python",
   "name": "python",
   "nbconvert_exporter": "python",
   "pygments_lexer": "ipython3",
   "version": "3.13.5"
  }
 },
 "nbformat": 4,
 "nbformat_minor": 5
}
