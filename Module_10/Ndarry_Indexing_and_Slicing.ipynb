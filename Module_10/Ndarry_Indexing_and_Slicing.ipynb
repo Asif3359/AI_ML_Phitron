{
 "cells": [
  {
   "cell_type": "markdown",
   "id": "207a0026",
   "metadata": {},
   "source": [
    "## ndarray Indexing and Slicing"
   ]
  },
  {
   "cell_type": "code",
   "execution_count": 6,
   "id": "2c6a8499",
   "metadata": {},
   "outputs": [
    {
     "name": "stdout",
     "output_type": "stream",
     "text": [
      "[[ 1  2  3  4  5  6  7  8  9 10]\n",
      " [11 12 13 14 15 16 17 18 19 20]]\n"
     ]
    }
   ],
   "source": [
    "# indexing and slicing\n",
    "\n",
    "import numpy as np\n",
    "arr = np.array([[1,2,3,4,5,6,7,8,9,10],[11,12,13,14,15,16,17,18,19,20]])\n",
    "\n",
    "print(arr)\n"
   ]
  },
  {
   "cell_type": "code",
   "execution_count": 8,
   "id": "d1bca568",
   "metadata": {},
   "outputs": [
    {
     "name": "stdout",
     "output_type": "stream",
     "text": [
      "[ 1  2  3  4  5  6  7  8  9 10]\n",
      "[11 12 13 14 15 16 17 18 19 20]\n"
     ]
    }
   ],
   "source": [
    "arr = np.array([[1,2,3,4,5,6,7,8,9,10],[11,12,13,14,15,16,17,18,19,20]])\n",
    "\n",
    "print(arr[0])\n",
    "print(arr[1])"
   ]
  },
  {
   "cell_type": "code",
   "execution_count": 10,
   "id": "a8cb4091",
   "metadata": {},
   "outputs": [
    {
     "name": "stdout",
     "output_type": "stream",
     "text": [
      "1 2 3 4 5 6 7 8 9 10\n",
      "11 12 13 14 15 16 17 18 19 20\n"
     ]
    }
   ],
   "source": [
    "arr = np.array([[1,2,3,4,5,6,7,8,9,10],[11,12,13,14,15,16,17,18,19,20]])\n",
    "\n",
    "print(arr[0][0], arr[0][1], arr[0][2], arr[0][3], arr[0][4], arr[0][5], arr[0][6], arr[0][7], arr[0][8], arr[0][9])\n",
    "print(arr[1][0], arr[1][1], arr[1][2], arr[1][3], arr[1][4], arr[1][5], arr[1][6], arr[1][7], arr[1][8], arr[1][9])"
   ]
  },
  {
   "cell_type": "code",
   "execution_count": 36,
   "id": "925ec54b",
   "metadata": {},
   "outputs": [
    {
     "name": "stdout",
     "output_type": "stream",
     "text": [
      "[[ 1  2  3  4  5  6  7  8  9 10]]\n",
      "\n",
      "[[11 12 13 14 15 16 17 18 19 20]]\n",
      "\n",
      "[[ 1  2  3  4  5  6  7  8  9 10]\n",
      " [11 12 13 14 15 16 17 18 19 20]]\n",
      "\n",
      "[[ 1  2]\n",
      " [11 12]]\n",
      "\n",
      "[[12]]\n",
      "\n",
      "[[ 1  3  5  7  9]\n",
      " [11 13 15 17 19]]\n"
     ]
    }
   ],
   "source": [
    "# slicing \n",
    "\n",
    "# arr [row_start:row_end, column_start:column_end]\n",
    "arr = np.array([[1,2,3,4,5,6,7,8,9,10],[11,12,13,14,15,16,17,18,19,20]])\n",
    "\n",
    "print(arr[0:1,])\n",
    "print()\n",
    "print(arr[1:2,])\n",
    "print()\n",
    "print(arr[0:2,])\n",
    "print()\n",
    "print(arr[0:2, 0:2])\n",
    "print()\n",
    "print(arr[1:2, 1:2])\n",
    "print()\n",
    "print(arr[0:10, 0:10:2])"
   ]
  },
  {
   "cell_type": "code",
   "execution_count": 49,
   "id": "a98398f3",
   "metadata": {},
   "outputs": [
    {
     "name": "stdout",
     "output_type": "stream",
     "text": [
      "[[ 1  2  3  4  5  6  7  8  9 10]]\n",
      "\n",
      "[[11 12 13 14 15 16 17 18 19 20]]\n",
      "\n",
      "[[21 22 23 24 25 26 27 28 29 30]]\n",
      "\n",
      "[[ 1]\n",
      " [11]\n",
      " [21]]\n",
      "\n",
      "[[ 2]\n",
      " [12]\n",
      " [22]]\n",
      "\n",
      "[[ 3]\n",
      " [13]\n",
      " [23]]\n"
     ]
    }
   ],
   "source": [
    "arr = np.array([\n",
    "    [1,2,3,4,5,6,7,8,9,10],\n",
    "    [11,12,13,14,15,16,17,18,19,20],\n",
    "    [21,22,23,24,25,26,27,28,29,30]\n",
    "    ])\n",
    "\n",
    "# print rows \n",
    "print(arr[0:1,])\n",
    "print()\n",
    "print(arr[1:2,])\n",
    "print()\n",
    "print(arr[2:3,])\n",
    "print()\n",
    "\n",
    "\n",
    "# print columns\n",
    "print(arr[:,0:1])\n",
    "print()\n",
    "print(arr[:,1:2])\n",
    "print()\n",
    "print(arr[:,2:3])"
   ]
  },
  {
   "cell_type": "code",
   "execution_count": null,
   "id": "dd7fb13b",
   "metadata": {},
   "outputs": [],
   "source": []
  }
 ],
 "metadata": {
  "kernelspec": {
   "display_name": "Python 3 (ipykernel)",
   "language": "python",
   "name": "python3"
  },
  "language_info": {
   "codemirror_mode": {
    "name": "ipython",
    "version": 3
   },
   "file_extension": ".py",
   "mimetype": "text/x-python",
   "name": "python",
   "nbconvert_exporter": "python",
   "pygments_lexer": "ipython3",
   "version": "3.13.5"
  }
 },
 "nbformat": 4,
 "nbformat_minor": 5
}
