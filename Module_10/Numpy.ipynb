{
 "cells": [
  {
   "cell_type": "code",
   "execution_count": 1,
   "id": "b6ef0a2b-9c1b-46e4-9e9c-f7acbd943e4c",
   "metadata": {},
   "outputs": [],
   "source": [
    "# Intro to Numpy\\\n",
    "\n",
    "# continuous \n",
    "# same type (homogenous)\n",
    "\n",
    "# opetations \n",
    "# vectorization \n",
    "\n",
    "# cpu - > simd single instructions multiple data \n",
    "\n"
   ]
  },
  {
   "cell_type": "markdown",
   "id": "1e9e885b-301a-4d89-ad6c-e6531aab0dbb",
   "metadata": {},
   "source": [
    " ## Ndarray and its attributes"
   ]
  },
  {
   "cell_type": "code",
   "execution_count": 2,
   "id": "567a646b-505b-40dc-901a-83010aaedfe7",
   "metadata": {},
   "outputs": [
    {
     "name": "stdout",
     "output_type": "stream",
     "text": [
      "[1, 2, 3, 1, 2, 3, 1, 2, 3, 1, 2, 3, 1, 2, 3]\n"
     ]
    }
   ],
   "source": [
    "arr = [1,2,3]\n",
    "print(arr*5)"
   ]
  },
  {
   "cell_type": "code",
   "execution_count": 3,
   "id": "50338e0e-e065-4090-a0ad-de1a3c397b31",
   "metadata": {},
   "outputs": [
    {
     "name": "stdout",
     "output_type": "stream",
     "text": [
      "[5, 10, 15]\n"
     ]
    }
   ],
   "source": [
    "arr = [1,2,3]\n",
    "\n",
    "arr = [x*5 for x in arr]\n",
    "print(arr)"
   ]
  },
  {
   "cell_type": "code",
   "execution_count": 4,
   "id": "da5d4435-d0f7-4e06-b4ce-fccd590182c8",
   "metadata": {},
   "outputs": [
    {
     "name": "stdout",
     "output_type": "stream",
     "text": [
      "[ 5 10 15]\n",
      "\n",
      "[[ 5 10 15]\n",
      " [10 20 30]\n",
      " [15 30 45]]\n"
     ]
    }
   ],
   "source": [
    "import numpy as np \n",
    "\n",
    "arr1 = np.array([1,2,3])\n",
    "arr1 = arr1 * 5 \n",
    "print(arr1)\n",
    "\n",
    "print()\n",
    "arr2 = np.array([arr1*1,arr1*2,arr1*3])\n",
    "print(arr2)"
   ]
  },
  {
   "cell_type": "code",
   "execution_count": 5,
   "id": "2863f713-11cf-4103-9700-f9efac372b1f",
   "metadata": {},
   "outputs": [
    {
     "name": "stdout",
     "output_type": "stream",
     "text": [
      "<class 'numpy.ndarray'>\n",
      "1\n",
      "2\n",
      "3\n"
     ]
    }
   ],
   "source": [
    "# ND array\n",
    "\n",
    "import numpy as np \n",
    "\n",
    "arr1 = np.array([1,2,3,4,5,6]) # 1D array\n",
    "arr2 = np.array([\n",
    "    [1,2,3,4,5,6],\n",
    "    [7,8,9,10,11,12]\n",
    "]) #2D array\n",
    "\n",
    "arr3 = np.array([\n",
    "    [\n",
    "    [1,2,3,4,5,6],\n",
    "    [7,8,9,10,11,12]\n",
    "],\n",
    "    [\n",
    "    [1,2,3,4,5,6],\n",
    "    [7,8,9,10,11,12]\n",
    "],\n",
    "    [\n",
    "    [1,2,3,4,5,6],\n",
    "    [7,8,9,10,11,12]\n",
    "],\n",
    "])\n",
    "\n",
    "print(type(arr1))\n",
    "print(arr1.ndim)\n",
    "print(arr2.ndim)\n",
    "print(arr3.ndim)\n"
   ]
  },
  {
   "cell_type": "code",
   "execution_count": 6,
   "id": "e7f1f8b6-917b-48c7-acaf-0b7005673699",
   "metadata": {},
   "outputs": [
    {
     "name": "stdout",
     "output_type": "stream",
     "text": [
      "1\n",
      "2\n",
      "3\n",
      "\n",
      "(6,)\n",
      "(2, 6)\n",
      "(3, 2, 6)\n",
      "\n",
      "int64\n",
      "int64\n",
      "int64\n",
      "\n",
      "6\n",
      "12\n",
      "36\n"
     ]
    }
   ],
   "source": [
    "# array attributes \n",
    "\n",
    "# dimension \n",
    "print(arr1.ndim)\n",
    "print(arr2.ndim)\n",
    "print(arr3.ndim)\n",
    "\n",
    "print()\n",
    "# shape \n",
    "print(arr1.shape)\n",
    "print(arr2.shape)\n",
    "print(arr3.shape)\n",
    "\n",
    "print()\n",
    "# dtype \n",
    "print(arr1.dtype)\n",
    "print(arr2.dtype)\n",
    "print(arr3.dtype)\n",
    "\n",
    "print()\n",
    "# size \n",
    "print(arr1.size)\n",
    "print(arr2.size)\n",
    "print(arr3.size)"
   ]
  }
 ],
 "metadata": {
  "kernelspec": {
   "display_name": "Python 3 (ipykernel)",
   "language": "python",
   "name": "python3"
  },
  "language_info": {
   "codemirror_mode": {
    "name": "ipython",
    "version": 3
   },
   "file_extension": ".py",
   "mimetype": "text/x-python",
   "name": "python",
   "nbconvert_exporter": "python",
   "pygments_lexer": "ipython3",
   "version": "3.13.5"
  }
 },
 "nbformat": 4,
 "nbformat_minor": 5
}
