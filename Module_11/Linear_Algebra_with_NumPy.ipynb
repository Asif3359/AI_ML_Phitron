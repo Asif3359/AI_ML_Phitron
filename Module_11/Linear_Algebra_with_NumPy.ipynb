{
 "cells": [
  {
   "cell_type": "markdown",
   "id": "fa82730d",
   "metadata": {},
   "source": [
    "## Linear Algebra with NumPy"
   ]
  },
  {
   "cell_type": "code",
   "execution_count": 6,
   "id": "84b7218d",
   "metadata": {},
   "outputs": [
    {
     "name": "stdout",
     "output_type": "stream",
     "text": [
      "[[ 58  64]\n",
      " [139 154]]\n"
     ]
    }
   ],
   "source": [
    "# Linear Algebra with NumPy\n",
    "\n",
    "import numpy as np\n",
    "\n",
    "A = np.array([[1,2,3],\n",
    "              [4,5,6]])\n",
    "\n",
    "B = np.array([\n",
    "    [7,8],\n",
    "    [9,10],\n",
    "    [11,12]\n",
    "])\n",
    "\n",
    "\n",
    "multiply = np.dot(A,B)\n",
    "print(multiply)"
   ]
  },
  {
   "cell_type": "code",
   "execution_count": null,
   "id": "529c6d43",
   "metadata": {},
   "outputs": [],
   "source": [
    "import numpy as np\n",
    "a = np.array([1, 2, 3, 4, 5, 6])\n",
    "b = a.reshape(2, 3)\n",
    "print(b.shape)"
   ]
  },
  {
   "cell_type": "code",
   "execution_count": 2,
   "id": "10f613e9-b61a-499a-9318-e9d53e33b5ac",
   "metadata": {},
   "outputs": [
    {
     "data": {
      "text/plain": [
       "np.float64(1.0)"
      ]
     },
     "execution_count": 2,
     "metadata": {},
     "output_type": "execute_result"
    }
   ],
   "source": [
    "np.sin(np.pi/2)"
   ]
  },
  {
   "cell_type": "code",
   "execution_count": 3,
   "id": "6b9f34f0-8c14-4d23-868d-00673a1288a5",
   "metadata": {},
   "outputs": [
    {
     "name": "stdout",
     "output_type": "stream",
     "text": [
      "[5 7 9]\n"
     ]
    }
   ],
   "source": [
    "a = np.array([1, 2, 3])\n",
    "b = np.array([4, 5, 6])\n",
    "print(a + b)"
   ]
  },
  {
   "cell_type": "code",
   "execution_count": 4,
   "id": "1a987121-80e2-4301-b39c-6ea92f78cd62",
   "metadata": {},
   "outputs": [
    {
     "name": "stdout",
     "output_type": "stream",
     "text": [
      "[1 2 3]\n"
     ]
    }
   ],
   "source": [
    "a = np.array([3, 1, 2])\n",
    "print(np.sort(a))"
   ]
  },
  {
   "cell_type": "code",
   "execution_count": 5,
   "id": "d69181b3-c87f-48d3-aec0-fc954ea97689",
   "metadata": {},
   "outputs": [
    {
     "name": "stdout",
     "output_type": "stream",
     "text": [
      "np.dot(A, B) =\n",
      "[[19 22]\n",
      " [43 50]]\n",
      "\n",
      "A @ B =\n",
      "[[19 22]\n",
      " [43 50]]\n",
      "\n",
      "np.matmul(A, B) =\n",
      "[[19 22]\n",
      " [43 50]]\n"
     ]
    }
   ],
   "source": [
    "import numpy as np\n",
    "\n",
    "A = np.array([[1, 2], [3, 4]])\n",
    "B = np.array([[5, 6], [7, 8]])\n",
    "\n",
    "# Matrix multiplication using np.dot()\n",
    "result = np.dot(A, B)\n",
    "print(\"np.dot(A, B) =\")\n",
    "print(result)\n",
    "\n",
    "# Alternative method using @ operator\n",
    "result2 = A @ B\n",
    "print(\"\\nA @ B =\")\n",
    "print(result2)\n",
    "\n",
    "# Alternative method using np.matmul()\n",
    "result3 = np.matmul(A, B)\n",
    "print(\"\\nnp.matmul(A, B) =\")\n",
    "print(result3)"
   ]
  },
  {
   "cell_type": "code",
   "execution_count": null,
   "id": "1b19157f-a58a-4919-8947-01fd29925295",
   "metadata": {},
   "outputs": [],
   "source": []
  }
 ],
 "metadata": {
  "kernelspec": {
   "display_name": "Python 3 (ipykernel)",
   "language": "python",
   "name": "python3"
  },
  "language_info": {
   "codemirror_mode": {
    "name": "ipython",
    "version": 3
   },
   "file_extension": ".py",
   "mimetype": "text/x-python",
   "name": "python",
   "nbconvert_exporter": "python",
   "pygments_lexer": "ipython3",
   "version": "3.13.5"
  }
 },
 "nbformat": 4,
 "nbformat_minor": 5
}
