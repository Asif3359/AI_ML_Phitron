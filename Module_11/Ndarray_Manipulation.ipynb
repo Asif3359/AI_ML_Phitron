{
 "cells": [
  {
   "cell_type": "markdown",
   "id": "d3e6d6b3",
   "metadata": {},
   "source": [
    "## ndarray Manipulation -1\n"
   ]
  },
  {
   "cell_type": "code",
   "execution_count": 1,
   "id": "4c5cf38f",
   "metadata": {},
   "outputs": [],
   "source": [
    "import numpy as np \n"
   ]
  },
  {
   "cell_type": "code",
   "execution_count": 2,
   "id": "1dda4e9f",
   "metadata": {},
   "outputs": [
    {
     "name": "stdout",
     "output_type": "stream",
     "text": [
      "[[ 9  9 15 11 33]\n",
      " [23 21 97 91  7]\n",
      " [43 76  5 25 59]\n",
      " [74 33 79 34 24]\n",
      " [82 56 35 81 43]\n",
      " [26 44 33 20 75]\n",
      " [31 84 26 42 31]\n",
      " [68 86 29 23 60]\n",
      " [29 23 44 84 73]\n",
      " [28 18  6 31  2]]\n",
      "(10, 5)\n",
      "2\n"
     ]
    }
   ],
   "source": [
    "arr = np.random.randint(1,100,size=(10,5))\n",
    "print(arr)\n",
    "print(arr.shape) # (10, 5)\n",
    "print(arr.ndim)\n"
   ]
  },
  {
   "cell_type": "code",
   "execution_count": 3,
   "id": "8d7d8e04",
   "metadata": {},
   "outputs": [
    {
     "name": "stdout",
     "output_type": "stream",
     "text": [
      "[[ 9  9 15 11 33 23 21 97 91  7]\n",
      " [43 76  5 25 59 74 33 79 34 24]\n",
      " [82 56 35 81 43 26 44 33 20 75]\n",
      " [31 84 26 42 31 68 86 29 23 60]\n",
      " [29 23 44 84 73 28 18  6 31  2]]\n",
      "(5, 10)\n"
     ]
    }
   ],
   "source": [
    "arr1 = arr.reshape(5,10)\n",
    "print(arr1) \n",
    "print(arr1.shape)"
   ]
  },
  {
   "cell_type": "code",
   "execution_count": 4,
   "id": "6abfb6dd",
   "metadata": {},
   "outputs": [
    {
     "name": "stdout",
     "output_type": "stream",
     "text": [
      "[ 9  9 15 11 33 23 21 97 91  7 43 76  5 25 59 74 33 79 34 24 82 56 35 81\n",
      " 43 26 44 33 20 75 31 84 26 42 31 68 86 29 23 60 29 23 44 84 73 28 18  6\n",
      " 31  2]\n",
      "(50,)\n",
      "1\n"
     ]
    }
   ],
   "source": [
    "arr2 = arr.flatten()\n",
    "print(arr2) \n",
    "print(arr2.shape)\n",
    "print(arr2.ndim)"
   ]
  },
  {
   "cell_type": "code",
   "execution_count": 5,
   "id": "e66d5af3",
   "metadata": {},
   "outputs": [
    {
     "name": "stdout",
     "output_type": "stream",
     "text": [
      "[ 9 23 43 74 82 26 31 68 29 28  9 21 76 33 56 44 84 86 23 18 15 97  5 79\n",
      " 35 33 26 29 44  6 11 91 25 34 81 20 42 23 84 31 33  7 59 24 43 75 31 60\n",
      " 73  2]\n",
      "(50,)\n",
      "1\n"
     ]
    }
   ],
   "source": [
    "# coloumn wise flatening\n",
    "arr3 = np.ravel(arr,order=\"F\")\n",
    "print(arr3) \n",
    "print(arr3.shape)\n",
    "print(arr3.ndim)"
   ]
  },
  {
   "cell_type": "code",
   "execution_count": 6,
   "id": "c8fef67b",
   "metadata": {},
   "outputs": [
    {
     "name": "stdout",
     "output_type": "stream",
     "text": [
      "[ 9  9 15 11 33 23 21 97 91  7 43 76  5 25 59 74 33 79 34 24 82 56 35 81\n",
      " 43 26 44 33 20 75 31 84 26 42 31 68 86 29 23 60 29 23 44 84 73 28 18  6\n",
      " 31  2]\n",
      "(50,)\n",
      "1\n"
     ]
    }
   ],
   "source": [
    "# row wise flatening\n",
    "arr3 = np.ravel(arr,order=\"C\")\n",
    "print(arr3) \n",
    "print(arr3.shape)\n",
    "print(arr3.ndim)"
   ]
  },
  {
   "cell_type": "code",
   "execution_count": 7,
   "id": "72ab6a65",
   "metadata": {},
   "outputs": [
    {
     "name": "stdout",
     "output_type": "stream",
     "text": [
      "[[51 45 56 25 97]\n",
      " [70 87 98 97 95]\n",
      " [43 14 99 33 79]\n",
      " [55 46 12 75 42]\n",
      " [ 9  9 78 59 51]\n",
      " [ 3 75 95 93 41]\n",
      " [32 41  8  6 23]\n",
      " [61 16 28 25 57]\n",
      " [56 41 63 53  2]\n",
      " [34 54  9 68 78]]\n",
      "[[7546 8102 7085 7019 2039]\n",
      " [2504 6840 8378 2819 7177]\n",
      " [8166 1737 1683 8718 9027]\n",
      " [8520 1704  759 5795 3335]\n",
      " [7020 5158 2957 6528 6767]\n",
      " [1752 1122 7418 7745 3017]\n",
      " [ 370 9300 6013 7520 3996]\n",
      " [7139 3695 2112 3513  854]\n",
      " [ 300 8334 6795  305 5359]\n",
      " [7929 6510  230 4547 2386]]\n"
     ]
    }
   ],
   "source": [
    "a = np.random.randint(1,100,size=(10,5))\n",
    "b = np.random.randint(100,10000,size=(10,5))\n",
    "\n",
    "\n",
    "print(a)\n",
    "print(b)"
   ]
  },
  {
   "cell_type": "code",
   "execution_count": 8,
   "id": "2282f635",
   "metadata": {},
   "outputs": [
    {
     "name": "stdout",
     "output_type": "stream",
     "text": [
      "[[  51   45   56   25   97]\n",
      " [  70   87   98   97   95]\n",
      " [  43   14   99   33   79]\n",
      " [  55   46   12   75   42]\n",
      " [   9    9   78   59   51]\n",
      " [   3   75   95   93   41]\n",
      " [  32   41    8    6   23]\n",
      " [  61   16   28   25   57]\n",
      " [  56   41   63   53    2]\n",
      " [  34   54    9   68   78]\n",
      " [7546 8102 7085 7019 2039]\n",
      " [2504 6840 8378 2819 7177]\n",
      " [8166 1737 1683 8718 9027]\n",
      " [8520 1704  759 5795 3335]\n",
      " [7020 5158 2957 6528 6767]\n",
      " [1752 1122 7418 7745 3017]\n",
      " [ 370 9300 6013 7520 3996]\n",
      " [7139 3695 2112 3513  854]\n",
      " [ 300 8334 6795  305 5359]\n",
      " [7929 6510  230 4547 2386]]\n"
     ]
    }
   ],
   "source": [
    "# concatenate \n",
    "# colum\n",
    "c = np.concatenate((a,b),axis=0) # row wise\n",
    "print(c)"
   ]
  },
  {
   "cell_type": "code",
   "execution_count": 9,
   "id": "8a2c0775",
   "metadata": {},
   "outputs": [
    {
     "name": "stdout",
     "output_type": "stream",
     "text": [
      "[[  51   45   56   25   97 7546 8102 7085 7019 2039]\n",
      " [  70   87   98   97   95 2504 6840 8378 2819 7177]\n",
      " [  43   14   99   33   79 8166 1737 1683 8718 9027]\n",
      " [  55   46   12   75   42 8520 1704  759 5795 3335]\n",
      " [   9    9   78   59   51 7020 5158 2957 6528 6767]\n",
      " [   3   75   95   93   41 1752 1122 7418 7745 3017]\n",
      " [  32   41    8    6   23  370 9300 6013 7520 3996]\n",
      " [  61   16   28   25   57 7139 3695 2112 3513  854]\n",
      " [  56   41   63   53    2  300 8334 6795  305 5359]\n",
      " [  34   54    9   68   78 7929 6510  230 4547 2386]]\n"
     ]
    }
   ],
   "source": [
    "# concatenate \n",
    "# col\n",
    "c = np.concatenate((a,b),axis=1) # col wise\n",
    "print(c)"
   ]
  },
  {
   "cell_type": "markdown",
   "id": "2afd50ef",
   "metadata": {},
   "source": [
    "## ndarray Manipulation -2"
   ]
  },
  {
   "cell_type": "code",
   "execution_count": 11,
   "id": "512b367b",
   "metadata": {},
   "outputs": [
    {
     "name": "stdout",
     "output_type": "stream",
     "text": [
      "[[60 18 81 19 96]\n",
      " [21 82 73 13 23]]\n",
      "[[27 60 63 25 27]\n",
      " [66 36 48 52 18]]\n"
     ]
    }
   ],
   "source": [
    "\n",
    "math = np.random.randint(1,100,size=(2,5))\n",
    "science = np.random.randint(1,100,size=(2,5))\n",
    "\n",
    "print(math)\n",
    "print(science)"
   ]
  },
  {
   "cell_type": "code",
   "execution_count": 12,
   "id": "6ecf7b7a",
   "metadata": {},
   "outputs": [
    {
     "name": "stdout",
     "output_type": "stream",
     "text": [
      "[[60 21]\n",
      " [18 82]\n",
      " [81 73]\n",
      " [19 13]\n",
      " [96 23]]\n"
     ]
    }
   ],
   "source": [
    "transpose = math.T\n",
    "\n",
    "print(transpose)"
   ]
  },
  {
   "cell_type": "code",
   "execution_count": 19,
   "id": "f1f32218",
   "metadata": {},
   "outputs": [
    {
     "name": "stdout",
     "output_type": "stream",
     "text": [
      "[[18 22 89  3 28]\n",
      " [42 54 99 65 97]\n",
      " [ 6  4 95 70 57]\n",
      " [12 84 29 58 86]\n",
      " [74 34 79 37 88]\n",
      " [52 96 15 45 62]\n",
      " [ 3  7 26 90 19]\n",
      " [17 25 93 89 67]\n",
      " [ 7  5 94 16 95]\n",
      " [83 95 33 46 10]]\n"
     ]
    }
   ],
   "source": [
    "# array split \n",
    "df = np.random.randint(1,100,size=(10,5))\n",
    "print(df)"
   ]
  },
  {
   "cell_type": "code",
   "execution_count": 20,
   "id": "b3c8ad59",
   "metadata": {},
   "outputs": [
    {
     "name": "stdout",
     "output_type": "stream",
     "text": [
      "[[18 22 89  3 28]\n",
      " [42 54 99 65 97]\n",
      " [ 6  4 95 70 57]\n",
      " [12 84 29 58 86]]\n",
      "[[74 34 79 37 88]\n",
      " [52 96 15 45 62]\n",
      " [ 3  7 26 90 19]]\n",
      "[[17 25 93 89 67]\n",
      " [ 7  5 94 16 95]\n",
      " [83 95 33 46 10]]\n"
     ]
    }
   ],
   "source": [
    "data,dt2,dt3 = np.array_split(df,3,axis=0)\n",
    "print(data)\n",
    "print(dt2)\n",
    "print(dt3)"
   ]
  },
  {
   "cell_type": "code",
   "execution_count": null,
   "id": "163c173c",
   "metadata": {},
   "outputs": [],
   "source": []
  }
 ],
 "metadata": {
  "kernelspec": {
   "display_name": "Python 3 (ipykernel)",
   "language": "python",
   "name": "python3"
  }
 },
 "nbformat": 4,
 "nbformat_minor": 5
}
