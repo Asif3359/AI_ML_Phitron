{
 "cells": [
  {
   "cell_type": "markdown",
   "id": "1942fb61",
   "metadata": {},
   "source": [
    "## Numpy Broadcasting"
   ]
  },
  {
   "cell_type": "code",
   "execution_count": 10,
   "id": "7ee8b8fe",
   "metadata": {},
   "outputs": [
    {
     "name": "stdout",
     "output_type": "stream",
     "text": [
      "[10 20 30 40 50]\n",
      "[1 2 3 4 5]\n"
     ]
    }
   ],
   "source": [
    "import numpy as np \n",
    "\n",
    "x = np.array([10,20,30,40,50])\n",
    "y = np.array([1,2,3,4,5])\n",
    "\n",
    "print(x)\n",
    "print(y)"
   ]
  },
  {
   "cell_type": "code",
   "execution_count": 11,
   "id": "995efc56",
   "metadata": {},
   "outputs": [
    {
     "name": "stdout",
     "output_type": "stream",
     "text": [
      "[ 100  400  900 1600 2500]\n",
      "[12 22 32 42 52]\n",
      "[ 8 18 28 38 48]\n",
      "[ 20  40  60  80 100]\n",
      "[ 5. 10. 15. 20. 25.]\n"
     ]
    }
   ],
   "source": [
    "sqrt = x ** 2 \n",
    "print(sqrt)\n",
    "\n",
    "sum = x + 2 \n",
    "print(sum)\n",
    "\n",
    "sub = x - 2 \n",
    "print(sub)\n",
    "\n",
    "mul = x * 2 \n",
    "print(mul)\n",
    "\n",
    "div = x / 2 \n",
    "print(div)\n",
    "\n",
    "mod = x % 2 "
   ]
  },
  {
   "cell_type": "code",
   "execution_count": 12,
   "id": "9b4f085e",
   "metadata": {},
   "outputs": [
    {
     "name": "stdout",
     "output_type": "stream",
     "text": [
      "[[ 2  4  6  8 10]\n",
      " [ 7  9 11 13 15]]\n",
      "[[0 0 0 0 0]\n",
      " [5 5 5 5 5]]\n",
      "[[ 1  4  9 16 25]\n",
      " [ 6 14 24 36 50]]\n",
      "[[1.         1.         1.         1.         1.        ]\n",
      " [6.         3.5        2.66666667 2.25       2.        ]]\n"
     ]
    }
   ],
   "source": [
    "d2 = np.array([[1,2,3,4,5],[6,7,8,9,10]])\n",
    "\n",
    "vector = np.array([1,2,3,4,5])\n",
    "\n",
    "sum = d2 + vector\n",
    "print(sum)\n",
    "\n",
    "sub = d2 - vector\n",
    "print(sub)\n",
    "\n",
    "mul = d2 * vector\n",
    "print(mul)\n",
    "\n",
    "div = d2 / vector\n",
    "print(div)"
   ]
  },
  {
   "cell_type": "code",
   "execution_count": null,
   "id": "92280daf",
   "metadata": {},
   "outputs": [],
   "source": []
  }
 ],
 "metadata": {
  "kernelspec": {
   "display_name": "Python 3 (ipykernel)",
   "language": "python",
   "name": "python3"
  }
 },
 "nbformat": 4,
 "nbformat_minor": 5
}
