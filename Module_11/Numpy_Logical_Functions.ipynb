{
 "cells": [
  {
   "cell_type": "markdown",
   "id": "6e8801cc",
   "metadata": {},
   "source": [
    "## Numpy Logical Functions"
   ]
  },
  {
   "cell_type": "code",
   "execution_count": 1,
   "id": "416ca9ba",
   "metadata": {},
   "outputs": [
    {
     "name": "stdout",
     "output_type": "stream",
     "text": [
      "[10 20 30 40 50]\n",
      "[ 1 20  3 47  5]\n",
      "[ True False  True False  True]\n",
      "[False False False  True False]\n",
      "[False  True False False False]\n",
      "[ True False  True  True  True]\n",
      "[ True  True  True False  True]\n",
      "[False  True False  True False]\n"
     ]
    }
   ],
   "source": [
    "import numpy as np \n",
    "\n",
    "x = np.array([10,20,30,40,50])\n",
    "y = np.array([1,20,3,47,5])\n",
    "\n",
    "print(x)\n",
    "print(y)\n",
    "\n",
    "print(x > y)\n",
    "print(x < y)\n",
    "print(x == y)\n",
    "print(x != y)\n",
    "print(x >= y)\n",
    "print(x <= y)"
   ]
  },
  {
   "cell_type": "code",
   "execution_count": 2,
   "id": "df91a28b",
   "metadata": {},
   "outputs": [
    {
     "name": "stdout",
     "output_type": "stream",
     "text": [
      "False\n",
      "True\n",
      "False\n",
      "True\n",
      "False\n",
      "True\n",
      "False\n",
      "True\n",
      "False\n",
      "True\n"
     ]
    }
   ],
   "source": [
    "equal  = x == y\n",
    "print(np.all(equal))\n",
    "print(np.any(equal))\n",
    "\n",
    "\n",
    "not_equal = x != y\n",
    "print(np.all(not_equal))\n",
    "print(np.any(not_equal))\n",
    "\n",
    "greater_than = x > y\n",
    "print(np.all(greater_than))\n",
    "print(np.any(greater_than))\n",
    "\n",
    "less_than = x < y\n",
    "print(np.all(less_than))\n",
    "print(np.any(less_than))\n",
    "\n",
    "greater_than_or_equal = x >= y\n",
    "print(np.all(greater_than_or_equal))\n",
    "print(np.any(greater_than_or_equal))"
   ]
  },
  {
   "cell_type": "markdown",
   "id": "0f47295e",
   "metadata": {},
   "source": [
    "## Sorting "
   ]
  },
  {
   "cell_type": "code",
   "execution_count": 3,
   "id": "bb6bbc3f",
   "metadata": {},
   "outputs": [
    {
     "name": "stdout",
     "output_type": "stream",
     "text": [
      "[100  20  30  40  10]\n",
      "[ 10  20  30  40 100]\n",
      "[100  20  30  40  10]\n",
      "[ 10  20  30  40 100]\n",
      "[100  20  30  40  10]\n"
     ]
    }
   ],
   "source": [
    "\n",
    "x = np.array([100,20,30,40,10])\n",
    "\n",
    "z = x.copy()\n",
    "print(z)\n",
    "# inplace sorting \n",
    "z.sort()\n",
    "print(z)\n",
    "print(x)\n",
    "\n",
    "\n",
    "# copy sorting \n",
    "sort_array = np.sort(x)\n",
    "print(sort_array)\n",
    "print(x)"
   ]
  },
  {
   "cell_type": "code",
   "execution_count": 4,
   "id": "a10323e1",
   "metadata": {},
   "outputs": [
    {
     "name": "stdout",
     "output_type": "stream",
     "text": [
      "[[100  20 110  40  10]\n",
      " [130 120 350 100  90]]\n",
      "[[100  20 350  40  10]\n",
      " [130 120 110 100  90]]\n",
      "--------------------------------\n",
      "[[ 10  20  40 100 350]\n",
      " [ 90 100 110 120 130]]\n",
      "[[100  20 350  40  10]\n",
      " [130 120 110 100  90]]\n"
     ]
    }
   ],
   "source": [
    "x = np.array([[100,20,350,40,10],[130,120,110,100,90]])\n",
    "\n",
    "\n",
    "# copy sorting \n",
    "sort_array = np.sort(x,axis=0)\n",
    "print(sort_array)\n",
    "print(x)\n",
    "\n",
    "print(\"--------------------------------\")\n",
    "# copy sorting \n",
    "sort_array = np.sort(x,axis=1)\n",
    "print(sort_array)\n",
    "print(x)"
   ]
  },
  {
   "cell_type": "markdown",
   "id": "dc999e3e",
   "metadata": {},
   "source": [
    "## ndarray Searching"
   ]
  },
  {
   "cell_type": "code",
   "execution_count": 5,
   "id": "9e754d39",
   "metadata": {},
   "outputs": [],
   "source": [
    "x = np.array([100,20,30,40,10])"
   ]
  },
  {
   "cell_type": "code",
   "execution_count": 6,
   "id": "e3a4f515",
   "metadata": {},
   "outputs": [
    {
     "name": "stdout",
     "output_type": "stream",
     "text": [
      "(array([0, 2, 3]),)\n"
     ]
    }
   ],
   "source": [
    "index = np.where(x>=30)\n",
    "print(index)"
   ]
  },
  {
   "cell_type": "code",
   "execution_count": 7,
   "id": "ef1061d9",
   "metadata": {},
   "outputs": [
    {
     "name": "stdout",
     "output_type": "stream",
     "text": [
      "[100   0  30  40   0]\n"
     ]
    }
   ],
   "source": [
    "index = np.where(x>=30,x,0)\n",
    "print(index)"
   ]
  },
  {
   "cell_type": "code",
   "execution_count": 8,
   "id": "045096f4",
   "metadata": {},
   "outputs": [
    {
     "name": "stdout",
     "output_type": "stream",
     "text": [
      "(array([0, 1]), array([0, 3]))\n",
      "[[100   0 350   0   0]\n",
      " [440 120 110 100   0]]\n",
      "5\n",
      "4\n"
     ]
    }
   ],
   "source": [
    "x = np.array([[100,20,350,40,10],[440,120,110,100,90]])\n",
    "\n",
    "index = np.where(x==100)\n",
    "print(index)\n",
    "\n",
    "index = np.where(x>=100,x,0)\n",
    "print(index)\n",
    "\n",
    "max_v_index = np.argmax(x)\n",
    "print(max_v_index)\n",
    "\n",
    "min_v_index = np.argmin(x)\n",
    "print(min_v_index)"
   ]
  },
  {
   "cell_type": "markdown",
   "id": "0601c21d",
   "metadata": {},
   "source": [
    "## Counting "
   ]
  },
  {
   "cell_type": "code",
   "execution_count": 11,
   "id": "44cd0c80",
   "metadata": {},
   "outputs": [
    {
     "name": "stdout",
     "output_type": "stream",
     "text": [
      "[[67 54 55 67 64]\n",
      " [84 59 13 48 85]\n",
      " [53 74 83 29 34]\n",
      " [47 29 57 32 22]\n",
      " [85  6 84 71 43]\n",
      " [14 73 51 18 41]\n",
      " [12 57 97 18 84]\n",
      " [13 30 65 42 50]\n",
      " [17 88 62 27 10]\n",
      " [28 84  4  9 61]]\n"
     ]
    }
   ],
   "source": [
    "arr = np.random.randint(1,100,size=(10,5))\n",
    "print(arr)"
   ]
  },
  {
   "cell_type": "code",
   "execution_count": 12,
   "metadata": {},
   "outputs": [
    {
     "name": "stdout",
     "output_type": "stream",
     "text": [
      "18\n"
     ]
    }
   ],
   "source": [
    "val_great_60 = np.count_nonzero(arr > 60)\n",
    "print(val_great_60)"
   ]
  },
  {
   "cell_type": "code",
   "execution_count": 14,
   "id": "6cd03137",
   "metadata": {},
   "outputs": [
    {
     "name": "stdout",
     "output_type": "stream",
     "text": [
      "[ 4  6  9 10 12 13 14 17 18 22 27 28 29 30 32 34 41 42 43 47 48 50 51 53\n",
      " 54 55 57 59 61 62 64 65 67 71 73 74 83 84 85 88 97]\n",
      "[1 1 1 1 1 2 1 1 2 1 1 1 2 1 1 1 1 1 1 1 1 1 1 1 1 1 2 1 1 1 1 1 2 1 1 1 1\n",
      " 4 2 1 1]\n"
     ]
    }
   ],
   "source": [
    "unique,count = np.unique(arr,return_counts=True)\n",
    "print(unique)\n",
    "print(count)"
   ]
  },
  {
   "cell_type": "code",
   "execution_count": null,
   "id": "1778ec91",
   "metadata": {},
   "outputs": [],
   "source": []
  }
 ],
 "metadata": {
  "kernelspec": {
   "display_name": "Python 3 (ipykernel)",
   "language": "python",
   "name": "python3"
  },
  "language_info": {
   "codemirror_mode": {
    "name": "ipython",
    "version": 3
   },
   "file_extension": ".py",
   "mimetype": "text/x-python",
   "name": "python",
   "nbconvert_exporter": "python",
   "pygments_lexer": "ipython3",
   "version": "3.13.5"
  }
 },
 "nbformat": 4,
 "nbformat_minor": 5
}
