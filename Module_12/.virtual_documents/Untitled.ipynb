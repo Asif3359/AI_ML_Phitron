


import pandas as pd 
import numpy as np


df = pd.read_csv("./student_data.csv")
# df = df.set_index('StudentID')
df.head()


# df.drop('PH1001',inplace=True)
# df.head()


# df.drop('Instructor',axis=1, inplace=True)
# df.head()


df.loc[1,'Python Marks'] = 90
df.loc[2,'CompletionStatus'] = 'Completed' 
df.head()


df.loc[1:3,'Python Marks']+=1
df.head()


x = 0 
for i, series in df.iterrows():
    print(f"{i} : {series}")
    if x == 3 :
        break
    x = x + 1 


x = 0 
for i in df.itertuples():
    print(i)
    if x == 3 :
        break
    x = x + 1 





df.head()


df.sort_values('Data Structure Marks', ascending=False).head()


df.sort_values(['Data Structure Marks','Algorithm Marks','Python Marks'], ascending=False).head()





not_started = df.loc[df["CompletionStatus"=="Not Started"]]



