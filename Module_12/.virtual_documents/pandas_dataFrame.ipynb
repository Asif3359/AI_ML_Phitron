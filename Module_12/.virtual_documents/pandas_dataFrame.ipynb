import pandas as pd


df = pd.read_csv('./student_data.csv')
df.head()


print(type(df))


student_id = df['StudentID']
student_id.head()


print(type(student_id))


df_xl = pd.read_excel('./phitron_student_marks.xlsx')
df_xl.head()


df_parquet = pd.read_parquet("./students.parquet")
df_parquet.head()


df_json = pd.read_json("./data.json")
df_json.head()



