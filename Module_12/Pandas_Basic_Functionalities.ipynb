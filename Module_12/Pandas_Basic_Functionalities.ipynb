{
 "cells": [
  {
   "cell_type": "markdown",
   "id": "843644cf-0658-427e-b3f4-143f89ebfefd",
   "metadata": {},
   "source": [
    "## Pandas Basic Functionalities"
   ]
  },
  {
   "cell_type": "code",
   "execution_count": 8,
   "id": "ddbf15b7-a5bf-45fa-8b15-0c3c3f9c2492",
   "metadata": {},
   "outputs": [],
   "source": [
    "import pandas as pd \n",
    "import numpy as np"
   ]
  },
  {
   "cell_type": "code",
   "execution_count": 3,
   "id": "7da927f2-e7f4-45e9-9373-de8da2e1e3cf",
   "metadata": {},
   "outputs": [
    {
     "data": {
      "text/html": [
       "<div>\n",
       "<style scoped>\n",
       "    .dataframe tbody tr th:only-of-type {\n",
       "        vertical-align: middle;\n",
       "    }\n",
       "\n",
       "    .dataframe tbody tr th {\n",
       "        vertical-align: top;\n",
       "    }\n",
       "\n",
       "    .dataframe thead th {\n",
       "        text-align: right;\n",
       "    }\n",
       "</style>\n",
       "<table border=\"1\" class=\"dataframe\">\n",
       "  <thead>\n",
       "    <tr style=\"text-align: right;\">\n",
       "      <th></th>\n",
       "      <th>StudentID</th>\n",
       "      <th>FullName</th>\n",
       "      <th>Data Structure Marks</th>\n",
       "      <th>Algorithm Marks</th>\n",
       "      <th>Python Marks</th>\n",
       "      <th>CompletionStatus</th>\n",
       "      <th>EnrollmentDate</th>\n",
       "      <th>Instructor</th>\n",
       "      <th>Location</th>\n",
       "    </tr>\n",
       "  </thead>\n",
       "  <tbody>\n",
       "    <tr>\n",
       "      <th>0</th>\n",
       "      <td>PH1001</td>\n",
       "      <td>Alif Rahman</td>\n",
       "      <td>85.0</td>\n",
       "      <td>85.0</td>\n",
       "      <td>88.0</td>\n",
       "      <td>Completed</td>\n",
       "      <td>2024-01-15</td>\n",
       "      <td>Mr. Karim</td>\n",
       "      <td>Dhaka</td>\n",
       "    </tr>\n",
       "    <tr>\n",
       "      <th>1</th>\n",
       "      <td>PH1002</td>\n",
       "      <td>Fatima Akhter</td>\n",
       "      <td>92.0</td>\n",
       "      <td>92.0</td>\n",
       "      <td>NaN</td>\n",
       "      <td>In Progress</td>\n",
       "      <td>2024-01-20</td>\n",
       "      <td>Ms. Salma</td>\n",
       "      <td>Chattogram</td>\n",
       "    </tr>\n",
       "    <tr>\n",
       "      <th>2</th>\n",
       "      <td>PH1003</td>\n",
       "      <td>Imran Hossain</td>\n",
       "      <td>88.0</td>\n",
       "      <td>88.0</td>\n",
       "      <td>85.0</td>\n",
       "      <td>Completed</td>\n",
       "      <td>2024-02-10</td>\n",
       "      <td>Mr. Karim</td>\n",
       "      <td>Dhaka</td>\n",
       "    </tr>\n",
       "    <tr>\n",
       "      <th>3</th>\n",
       "      <td>PH1004</td>\n",
       "      <td>Jannatul Ferdous</td>\n",
       "      <td>78.0</td>\n",
       "      <td>78.0</td>\n",
       "      <td>82.0</td>\n",
       "      <td>Completed</td>\n",
       "      <td>2024-02-12</td>\n",
       "      <td>Ms. Salma</td>\n",
       "      <td>Sylhet</td>\n",
       "    </tr>\n",
       "    <tr>\n",
       "      <th>4</th>\n",
       "      <td>PH1005</td>\n",
       "      <td>Kamal Uddin</td>\n",
       "      <td>NaN</td>\n",
       "      <td>NaN</td>\n",
       "      <td>95.0</td>\n",
       "      <td>In Progress</td>\n",
       "      <td>2024-03-05</td>\n",
       "      <td>Mr. Karim</td>\n",
       "      <td>Chattogram</td>\n",
       "    </tr>\n",
       "  </tbody>\n",
       "</table>\n",
       "</div>"
      ],
      "text/plain": [
       "  StudentID          FullName  Data Structure Marks  Algorithm Marks  \\\n",
       "0    PH1001       Alif Rahman                  85.0             85.0   \n",
       "1    PH1002     Fatima Akhter                  92.0             92.0   \n",
       "2    PH1003     Imran Hossain                  88.0             88.0   \n",
       "3    PH1004  Jannatul Ferdous                  78.0             78.0   \n",
       "4    PH1005       Kamal Uddin                   NaN              NaN   \n",
       "\n",
       "   Python Marks CompletionStatus EnrollmentDate Instructor    Location  \n",
       "0          88.0        Completed     2024-01-15  Mr. Karim       Dhaka  \n",
       "1           NaN      In Progress     2024-01-20  Ms. Salma  Chattogram  \n",
       "2          85.0        Completed     2024-02-10  Mr. Karim       Dhaka  \n",
       "3          82.0        Completed     2024-02-12  Ms. Salma      Sylhet  \n",
       "4          95.0      In Progress     2024-03-05  Mr. Karim  Chattogram  "
      ]
     },
     "execution_count": 3,
     "metadata": {},
     "output_type": "execute_result"
    }
   ],
   "source": [
    "df = pd.read_csv(\"./student_data.csv\")\n",
    "df.head()"
   ]
  },
  {
   "cell_type": "code",
   "execution_count": 5,
   "id": "6f3b1247-824c-4f20-bf9a-0b767ff6435d",
   "metadata": {},
   "outputs": [
    {
     "data": {
      "text/html": [
       "<div>\n",
       "<style scoped>\n",
       "    .dataframe tbody tr th:only-of-type {\n",
       "        vertical-align: middle;\n",
       "    }\n",
       "\n",
       "    .dataframe tbody tr th {\n",
       "        vertical-align: top;\n",
       "    }\n",
       "\n",
       "    .dataframe thead th {\n",
       "        text-align: right;\n",
       "    }\n",
       "</style>\n",
       "<table border=\"1\" class=\"dataframe\">\n",
       "  <thead>\n",
       "    <tr style=\"text-align: right;\">\n",
       "      <th></th>\n",
       "      <th>StudentID</th>\n",
       "      <th>FullName</th>\n",
       "      <th>Data Structure Marks</th>\n",
       "      <th>Algorithm Marks</th>\n",
       "      <th>Python Marks</th>\n",
       "      <th>CompletionStatus</th>\n",
       "      <th>EnrollmentDate</th>\n",
       "      <th>Instructor</th>\n",
       "      <th>Location</th>\n",
       "    </tr>\n",
       "  </thead>\n",
       "  <tbody>\n",
       "    <tr>\n",
       "      <th>17</th>\n",
       "      <td>PH1018</td>\n",
       "      <td>Babul Ahmed</td>\n",
       "      <td>88.0</td>\n",
       "      <td>88.0</td>\n",
       "      <td>85.0</td>\n",
       "      <td>Completed</td>\n",
       "      <td>2025-09-05</td>\n",
       "      <td>Ms. Salma</td>\n",
       "      <td>Sylhet</td>\n",
       "    </tr>\n",
       "    <tr>\n",
       "      <th>18</th>\n",
       "      <td>PH1019</td>\n",
       "      <td>Faria Rahman</td>\n",
       "      <td>NaN</td>\n",
       "      <td>NaN</td>\n",
       "      <td>NaN</td>\n",
       "      <td>Not Started</td>\n",
       "      <td>2025-09-15</td>\n",
       "      <td>Mr. David</td>\n",
       "      <td>Chattogram</td>\n",
       "    </tr>\n",
       "    <tr>\n",
       "      <th>19</th>\n",
       "      <td>PH1020</td>\n",
       "      <td>Nasir Khan</td>\n",
       "      <td>86.0</td>\n",
       "      <td>86.0</td>\n",
       "      <td>89.0</td>\n",
       "      <td>Completed</td>\n",
       "      <td>2025-10-02</td>\n",
       "      <td>Ms. Salma</td>\n",
       "      <td>Dhaka</td>\n",
       "    </tr>\n",
       "  </tbody>\n",
       "</table>\n",
       "</div>"
      ],
      "text/plain": [
       "   StudentID      FullName  Data Structure Marks  Algorithm Marks  \\\n",
       "17    PH1018   Babul Ahmed                  88.0             88.0   \n",
       "18    PH1019  Faria Rahman                   NaN              NaN   \n",
       "19    PH1020    Nasir Khan                  86.0             86.0   \n",
       "\n",
       "    Python Marks CompletionStatus EnrollmentDate Instructor    Location  \n",
       "17          85.0        Completed     2025-09-05  Ms. Salma      Sylhet  \n",
       "18           NaN      Not Started     2025-09-15  Mr. David  Chattogram  \n",
       "19          89.0        Completed     2025-10-02  Ms. Salma       Dhaka  "
      ]
     },
     "execution_count": 5,
     "metadata": {},
     "output_type": "execute_result"
    }
   ],
   "source": [
    "df.tail(3)"
   ]
  },
  {
   "cell_type": "code",
   "execution_count": 6,
   "id": "a2b68fa6-79b4-44f1-a1c2-4862003114b3",
   "metadata": {},
   "outputs": [
    {
     "data": {
      "text/plain": [
       "Index(['StudentID', 'FullName', 'Data Structure Marks', 'Algorithm Marks',\n",
       "       'Python Marks', 'CompletionStatus', 'EnrollmentDate', 'Instructor',\n",
       "       'Location'],\n",
       "      dtype='object')"
      ]
     },
     "execution_count": 6,
     "metadata": {},
     "output_type": "execute_result"
    }
   ],
   "source": [
    "df.columns"
   ]
  },
  {
   "cell_type": "code",
   "execution_count": 10,
   "id": "b6f3e5d2-440f-4275-9a0a-7fe73dd33ba8",
   "metadata": {},
   "outputs": [
    {
     "data": {
      "text/plain": [
       "array(['StudentID', 'FullName', 'Data Structure Marks', 'Algorithm Marks',\n",
       "       'Python Marks', 'CompletionStatus', 'EnrollmentDate', 'Instructor',\n",
       "       'Location'], dtype=object)"
      ]
     },
     "execution_count": 10,
     "metadata": {},
     "output_type": "execute_result"
    }
   ],
   "source": [
    "col = np.array(df.columns)\n",
    "col"
   ]
  },
  {
   "cell_type": "code",
   "execution_count": 11,
   "id": "b5681900-c926-44dc-9fc4-511a8cb86566",
   "metadata": {},
   "outputs": [
    {
     "data": {
      "text/plain": [
       "RangeIndex(start=0, stop=20, step=1)"
      ]
     },
     "execution_count": 11,
     "metadata": {},
     "output_type": "execute_result"
    }
   ],
   "source": [
    "df.index"
   ]
  },
  {
   "cell_type": "code",
   "execution_count": 12,
   "id": "ec992a11-84da-4ddd-9b8b-8c8f6ebdc0a8",
   "metadata": {},
   "outputs": [
    {
     "data": {
      "text/plain": [
       "array([ 0,  1,  2,  3,  4,  5,  6,  7,  8,  9, 10, 11, 12, 13, 14, 15, 16,\n",
       "       17, 18, 19])"
      ]
     },
     "execution_count": 12,
     "metadata": {},
     "output_type": "execute_result"
    }
   ],
   "source": [
    "ind = np.array(df.index)\n",
    "ind "
   ]
  },
  {
   "cell_type": "code",
   "execution_count": 13,
   "id": "04c4ec7e-83b3-43bb-8271-b232d783e7dc",
   "metadata": {},
   "outputs": [
    {
     "name": "stdout",
     "output_type": "stream",
     "text": [
      "<class 'pandas.core.frame.DataFrame'>\n",
      "RangeIndex: 20 entries, 0 to 19\n",
      "Data columns (total 9 columns):\n",
      " #   Column                Non-Null Count  Dtype  \n",
      "---  ------                --------------  -----  \n",
      " 0   StudentID             20 non-null     object \n",
      " 1   FullName              20 non-null     object \n",
      " 2   Data Structure Marks  16 non-null     float64\n",
      " 3   Algorithm Marks       16 non-null     float64\n",
      " 4   Python Marks          15 non-null     float64\n",
      " 5   CompletionStatus      20 non-null     object \n",
      " 6   EnrollmentDate        20 non-null     object \n",
      " 7   Instructor            20 non-null     object \n",
      " 8   Location              20 non-null     object \n",
      "dtypes: float64(3), object(6)\n",
      "memory usage: 1.5+ KB\n"
     ]
    }
   ],
   "source": [
    "df.info()"
   ]
  },
  {
   "cell_type": "code",
   "execution_count": 17,
   "id": "59614a24-a8b7-478c-b337-d1fdc203928f",
   "metadata": {},
   "outputs": [
    {
     "data": {
      "text/html": [
       "<div>\n",
       "<style scoped>\n",
       "    .dataframe tbody tr th:only-of-type {\n",
       "        vertical-align: middle;\n",
       "    }\n",
       "\n",
       "    .dataframe tbody tr th {\n",
       "        vertical-align: top;\n",
       "    }\n",
       "\n",
       "    .dataframe thead th {\n",
       "        text-align: right;\n",
       "    }\n",
       "</style>\n",
       "<table border=\"1\" class=\"dataframe\">\n",
       "  <thead>\n",
       "    <tr style=\"text-align: right;\">\n",
       "      <th></th>\n",
       "      <th>StudentID</th>\n",
       "      <th>FullName</th>\n",
       "      <th>Data Structure Marks</th>\n",
       "      <th>Algorithm Marks</th>\n",
       "      <th>Python Marks</th>\n",
       "      <th>CompletionStatus</th>\n",
       "      <th>EnrollmentDate</th>\n",
       "      <th>Instructor</th>\n",
       "      <th>Location</th>\n",
       "    </tr>\n",
       "  </thead>\n",
       "  <tbody>\n",
       "    <tr>\n",
       "      <th>9</th>\n",
       "      <td>PH1010</td>\n",
       "      <td>Priya Sharma</td>\n",
       "      <td>89.0</td>\n",
       "      <td>89.0</td>\n",
       "      <td>88.0</td>\n",
       "      <td>Completed</td>\n",
       "      <td>2024-05-20</td>\n",
       "      <td>Ms. Salma</td>\n",
       "      <td>Sylhet</td>\n",
       "    </tr>\n",
       "    <tr>\n",
       "      <th>14</th>\n",
       "      <td>PH1015</td>\n",
       "      <td>Wahiduzzaman</td>\n",
       "      <td>86.0</td>\n",
       "      <td>86.0</td>\n",
       "      <td>84.0</td>\n",
       "      <td>Completed</td>\n",
       "      <td>2024-08-18</td>\n",
       "      <td>Mr. Karim</td>\n",
       "      <td>Dhaka</td>\n",
       "    </tr>\n",
       "    <tr>\n",
       "      <th>2</th>\n",
       "      <td>PH1003</td>\n",
       "      <td>Imran Hossain</td>\n",
       "      <td>88.0</td>\n",
       "      <td>88.0</td>\n",
       "      <td>85.0</td>\n",
       "      <td>Completed</td>\n",
       "      <td>2024-02-10</td>\n",
       "      <td>Mr. Karim</td>\n",
       "      <td>Dhaka</td>\n",
       "    </tr>\n",
       "    <tr>\n",
       "      <th>11</th>\n",
       "      <td>PH1012</td>\n",
       "      <td>Sadia Chowdhury</td>\n",
       "      <td>85.0</td>\n",
       "      <td>85.0</td>\n",
       "      <td>87.0</td>\n",
       "      <td>Completed</td>\n",
       "      <td>2024-06-14</td>\n",
       "      <td>Ms. Salma</td>\n",
       "      <td>Chattogram</td>\n",
       "    </tr>\n",
       "    <tr>\n",
       "      <th>1</th>\n",
       "      <td>PH1002</td>\n",
       "      <td>Fatima Akhter</td>\n",
       "      <td>92.0</td>\n",
       "      <td>92.0</td>\n",
       "      <td>NaN</td>\n",
       "      <td>In Progress</td>\n",
       "      <td>2024-01-20</td>\n",
       "      <td>Ms. Salma</td>\n",
       "      <td>Chattogram</td>\n",
       "    </tr>\n",
       "  </tbody>\n",
       "</table>\n",
       "</div>"
      ],
      "text/plain": [
       "   StudentID         FullName  Data Structure Marks  Algorithm Marks  \\\n",
       "9     PH1010     Priya Sharma                  89.0             89.0   \n",
       "14    PH1015     Wahiduzzaman                  86.0             86.0   \n",
       "2     PH1003    Imran Hossain                  88.0             88.0   \n",
       "11    PH1012  Sadia Chowdhury                  85.0             85.0   \n",
       "1     PH1002    Fatima Akhter                  92.0             92.0   \n",
       "\n",
       "    Python Marks CompletionStatus EnrollmentDate Instructor    Location  \n",
       "9           88.0        Completed     2024-05-20  Ms. Salma      Sylhet  \n",
       "14          84.0        Completed     2024-08-18  Mr. Karim       Dhaka  \n",
       "2           85.0        Completed     2024-02-10  Mr. Karim       Dhaka  \n",
       "11          87.0        Completed     2024-06-14  Ms. Salma  Chattogram  \n",
       "1            NaN      In Progress     2024-01-20  Ms. Salma  Chattogram  "
      ]
     },
     "execution_count": 17,
     "metadata": {},
     "output_type": "execute_result"
    }
   ],
   "source": [
    "df.sample(5)"
   ]
  },
  {
   "cell_type": "code",
   "execution_count": 18,
   "id": "7ecac3b6-85e7-4b86-908d-489732326629",
   "metadata": {},
   "outputs": [
    {
     "data": {
      "text/html": [
       "<div>\n",
       "<style scoped>\n",
       "    .dataframe tbody tr th:only-of-type {\n",
       "        vertical-align: middle;\n",
       "    }\n",
       "\n",
       "    .dataframe tbody tr th {\n",
       "        vertical-align: top;\n",
       "    }\n",
       "\n",
       "    .dataframe thead th {\n",
       "        text-align: right;\n",
       "    }\n",
       "</style>\n",
       "<table border=\"1\" class=\"dataframe\">\n",
       "  <thead>\n",
       "    <tr style=\"text-align: right;\">\n",
       "      <th></th>\n",
       "      <th>Data Structure Marks</th>\n",
       "      <th>Algorithm Marks</th>\n",
       "      <th>Python Marks</th>\n",
       "    </tr>\n",
       "  </thead>\n",
       "  <tbody>\n",
       "    <tr>\n",
       "      <th>count</th>\n",
       "      <td>16.000000</td>\n",
       "      <td>16.000000</td>\n",
       "      <td>15.000000</td>\n",
       "    </tr>\n",
       "    <tr>\n",
       "      <th>mean</th>\n",
       "      <td>84.000000</td>\n",
       "      <td>84.000000</td>\n",
       "      <td>85.666667</td>\n",
       "    </tr>\n",
       "    <tr>\n",
       "      <th>std</th>\n",
       "      <td>6.501282</td>\n",
       "      <td>6.501282</td>\n",
       "      <td>5.394000</td>\n",
       "    </tr>\n",
       "    <tr>\n",
       "      <th>min</th>\n",
       "      <td>72.000000</td>\n",
       "      <td>72.000000</td>\n",
       "      <td>76.000000</td>\n",
       "    </tr>\n",
       "    <tr>\n",
       "      <th>25%</th>\n",
       "      <td>79.500000</td>\n",
       "      <td>79.500000</td>\n",
       "      <td>83.000000</td>\n",
       "    </tr>\n",
       "    <tr>\n",
       "      <th>50%</th>\n",
       "      <td>85.500000</td>\n",
       "      <td>85.500000</td>\n",
       "      <td>85.000000</td>\n",
       "    </tr>\n",
       "    <tr>\n",
       "      <th>75%</th>\n",
       "      <td>88.250000</td>\n",
       "      <td>88.250000</td>\n",
       "      <td>88.500000</td>\n",
       "    </tr>\n",
       "    <tr>\n",
       "      <th>max</th>\n",
       "      <td>94.000000</td>\n",
       "      <td>94.000000</td>\n",
       "      <td>95.000000</td>\n",
       "    </tr>\n",
       "  </tbody>\n",
       "</table>\n",
       "</div>"
      ],
      "text/plain": [
       "       Data Structure Marks  Algorithm Marks  Python Marks\n",
       "count             16.000000        16.000000     15.000000\n",
       "mean              84.000000        84.000000     85.666667\n",
       "std                6.501282         6.501282      5.394000\n",
       "min               72.000000        72.000000     76.000000\n",
       "25%               79.500000        79.500000     83.000000\n",
       "50%               85.500000        85.500000     85.000000\n",
       "75%               88.250000        88.250000     88.500000\n",
       "max               94.000000        94.000000     95.000000"
      ]
     },
     "execution_count": 18,
     "metadata": {},
     "output_type": "execute_result"
    }
   ],
   "source": [
    "df.describe()"
   ]
  },
  {
   "cell_type": "markdown",
   "id": "1bf3dfcf-4e42-48b6-9b03-6e7ae64898e4",
   "metadata": {},
   "source": [
    "## Dataframe from Inbuilt Data with Column and Indexes"
   ]
  },
  {
   "cell_type": "code",
   "execution_count": 22,
   "id": "0a2834e3-7f57-45e3-9765-edde37da50b9",
   "metadata": {},
   "outputs": [
    {
     "data": {
      "text/html": [
       "<div>\n",
       "<style scoped>\n",
       "    .dataframe tbody tr th:only-of-type {\n",
       "        vertical-align: middle;\n",
       "    }\n",
       "\n",
       "    .dataframe tbody tr th {\n",
       "        vertical-align: top;\n",
       "    }\n",
       "\n",
       "    .dataframe thead th {\n",
       "        text-align: right;\n",
       "    }\n",
       "</style>\n",
       "<table border=\"1\" class=\"dataframe\">\n",
       "  <thead>\n",
       "    <tr style=\"text-align: right;\">\n",
       "      <th></th>\n",
       "      <th>Name</th>\n",
       "      <th>Age</th>\n",
       "    </tr>\n",
       "  </thead>\n",
       "  <tbody>\n",
       "    <tr>\n",
       "      <th>0</th>\n",
       "      <td>Alice</td>\n",
       "      <td>25</td>\n",
       "    </tr>\n",
       "    <tr>\n",
       "      <th>1</th>\n",
       "      <td>Bob</td>\n",
       "      <td>30</td>\n",
       "    </tr>\n",
       "    <tr>\n",
       "      <th>2</th>\n",
       "      <td>Charlie</td>\n",
       "      <td>28</td>\n",
       "    </tr>\n",
       "  </tbody>\n",
       "</table>\n",
       "</div>"
      ],
      "text/plain": [
       "      Name  Age\n",
       "0    Alice   25\n",
       "1      Bob   30\n",
       "2  Charlie   28"
      ]
     },
     "execution_count": 22,
     "metadata": {},
     "output_type": "execute_result"
    }
   ],
   "source": [
    "my_list = [\n",
    "    ['Alice', 25],\n",
    "    ['Bob', 30],\n",
    "    ['Charlie', 28] \n",
    "]\n",
    "\n",
    "col = [\"Name\",\"Age\"]\n",
    "list_df = pd.DataFrame(my_list,columns=col)\n",
    "list_df"
   ]
  },
  {
   "cell_type": "code",
   "execution_count": 23,
   "id": "e075e658-5794-48d1-a52e-efa3d7744b57",
   "metadata": {},
   "outputs": [
    {
     "data": {
      "text/html": [
       "<div>\n",
       "<style scoped>\n",
       "    .dataframe tbody tr th:only-of-type {\n",
       "        vertical-align: middle;\n",
       "    }\n",
       "\n",
       "    .dataframe tbody tr th {\n",
       "        vertical-align: top;\n",
       "    }\n",
       "\n",
       "    .dataframe thead th {\n",
       "        text-align: right;\n",
       "    }\n",
       "</style>\n",
       "<table border=\"1\" class=\"dataframe\">\n",
       "  <thead>\n",
       "    <tr style=\"text-align: right;\">\n",
       "      <th></th>\n",
       "      <th>Student_Name</th>\n",
       "      <th>Student_Age</th>\n",
       "    </tr>\n",
       "  </thead>\n",
       "  <tbody>\n",
       "    <tr>\n",
       "      <th>0</th>\n",
       "      <td>Alice</td>\n",
       "      <td>25</td>\n",
       "    </tr>\n",
       "    <tr>\n",
       "      <th>1</th>\n",
       "      <td>Bob</td>\n",
       "      <td>30</td>\n",
       "    </tr>\n",
       "    <tr>\n",
       "      <th>2</th>\n",
       "      <td>Charlie</td>\n",
       "      <td>28</td>\n",
       "    </tr>\n",
       "  </tbody>\n",
       "</table>\n",
       "</div>"
      ],
      "text/plain": [
       "  Student_Name  Student_Age\n",
       "0        Alice           25\n",
       "1          Bob           30\n",
       "2      Charlie           28"
      ]
     },
     "execution_count": 23,
     "metadata": {},
     "output_type": "execute_result"
    }
   ],
   "source": [
    "col = [\"Student_Name\",\"Student_Age\"]\n",
    "my_list = (\n",
    "    ('Alice', 25),\n",
    "    ('Bob', 30),\n",
    "    ('Charlie', 28) \n",
    ")\n",
    "tuple_df = pd.DataFrame(my_list,columns=col)\n",
    "tuple_df"
   ]
  },
  {
   "cell_type": "code",
   "execution_count": 33,
   "id": "1b1bc9d5-c3e5-4959-902d-7f6a7ecab7c0",
   "metadata": {},
   "outputs": [
    {
     "data": {
      "text/html": [
       "<div>\n",
       "<style scoped>\n",
       "    .dataframe tbody tr th:only-of-type {\n",
       "        vertical-align: middle;\n",
       "    }\n",
       "\n",
       "    .dataframe tbody tr th {\n",
       "        vertical-align: top;\n",
       "    }\n",
       "\n",
       "    .dataframe thead th {\n",
       "        text-align: right;\n",
       "    }\n",
       "</style>\n",
       "<table border=\"1\" class=\"dataframe\">\n",
       "  <thead>\n",
       "    <tr style=\"text-align: right;\">\n",
       "      <th></th>\n",
       "      <th>Name</th>\n",
       "      <th>Age</th>\n",
       "    </tr>\n",
       "  </thead>\n",
       "  <tbody>\n",
       "    <tr>\n",
       "      <th>0</th>\n",
       "      <td>Alice</td>\n",
       "      <td>25</td>\n",
       "    </tr>\n",
       "    <tr>\n",
       "      <th>1</th>\n",
       "      <td>Bob</td>\n",
       "      <td>30</td>\n",
       "    </tr>\n",
       "    <tr>\n",
       "      <th>2</th>\n",
       "      <td>Charle</td>\n",
       "      <td>28</td>\n",
       "    </tr>\n",
       "  </tbody>\n",
       "</table>\n",
       "</div>"
      ],
      "text/plain": [
       "     Name  Age\n",
       "0   Alice   25\n",
       "1     Bob   30\n",
       "2  Charle   28"
      ]
     },
     "execution_count": 33,
     "metadata": {},
     "output_type": "execute_result"
    }
   ],
   "source": [
    "my_dictionary = {\n",
    "    \"Name\":[\"Alice\",\"Bob\",\"Charle\"],\n",
    "    \"Age\":[25,30,28]\n",
    "}\n",
    "\n",
    "dict_df = pd.DataFrame(my_dictionary)\n",
    "dict_df"
   ]
  },
  {
   "cell_type": "code",
   "execution_count": 34,
   "id": "4d1049fd-fec4-430c-993e-5a36bdc4eaf1",
   "metadata": {},
   "outputs": [
    {
     "data": {
      "text/html": [
       "<div>\n",
       "<style scoped>\n",
       "    .dataframe tbody tr th:only-of-type {\n",
       "        vertical-align: middle;\n",
       "    }\n",
       "\n",
       "    .dataframe tbody tr th {\n",
       "        vertical-align: top;\n",
       "    }\n",
       "\n",
       "    .dataframe thead th {\n",
       "        text-align: right;\n",
       "    }\n",
       "</style>\n",
       "<table border=\"1\" class=\"dataframe\">\n",
       "  <thead>\n",
       "    <tr style=\"text-align: right;\">\n",
       "      <th></th>\n",
       "      <th>Name</th>\n",
       "      <th>Age</th>\n",
       "      <th>City</th>\n",
       "    </tr>\n",
       "  </thead>\n",
       "  <tbody>\n",
       "    <tr>\n",
       "      <th>0</th>\n",
       "      <td>Alice</td>\n",
       "      <td>25</td>\n",
       "      <td>New York</td>\n",
       "    </tr>\n",
       "    <tr>\n",
       "      <th>1</th>\n",
       "      <td>Bob</td>\n",
       "      <td>25</td>\n",
       "      <td>New York</td>\n",
       "    </tr>\n",
       "    <tr>\n",
       "      <th>2</th>\n",
       "      <td>Charle</td>\n",
       "      <td>25</td>\n",
       "      <td>NaN</td>\n",
       "    </tr>\n",
       "  </tbody>\n",
       "</table>\n",
       "</div>"
      ],
      "text/plain": [
       "     Name  Age      City\n",
       "0   Alice   25  New York\n",
       "1     Bob   25  New York\n",
       "2  Charle   25       NaN"
      ]
     },
     "execution_count": 34,
     "metadata": {},
     "output_type": "execute_result"
    }
   ],
   "source": [
    "my_data = [\n",
    "    {'Name':\"Alice\",'Age':25,'City':'New York'},\n",
    "    {'Name':\"Bob\",'Age':25,'City':'New York'},\n",
    "    {'Name':\"Charle\",'Age':25}\n",
    "]\n",
    "\n",
    "list_dic_df = pd.DataFrame(my_data)\n",
    "list_dic_df"
   ]
  },
  {
   "cell_type": "code",
   "execution_count": null,
   "id": "8588ead9-5def-49c3-8aa5-d0456e616dcb",
   "metadata": {},
   "outputs": [],
   "source": []
  }
 ],
 "metadata": {
  "kernelspec": {
   "display_name": "Python 3 (ipykernel)",
   "language": "python",
   "name": "python3"
  },
  "language_info": {
   "codemirror_mode": {
    "name": "ipython",
    "version": 3
   },
   "file_extension": ".py",
   "mimetype": "text/x-python",
   "name": "python",
   "nbconvert_exporter": "python",
   "pygments_lexer": "ipython3",
   "version": "3.13.5"
  }
 },
 "nbformat": 4,
 "nbformat_minor": 5
}
