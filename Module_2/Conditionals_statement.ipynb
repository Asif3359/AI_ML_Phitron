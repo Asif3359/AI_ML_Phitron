{
 "cells": [
  {
   "cell_type": "code",
   "execution_count": 2,
   "id": "3f1a68d4",
   "metadata": {},
   "outputs": [
    {
     "name": "stdout",
     "output_type": "stream",
     "text": [
      "Raining ... \n",
      "Sandel is neceasary ... \n"
     ]
    }
   ],
   "source": [
    "raining = True\n",
    "muddy = True\n",
    "\n",
    "if raining == True :\n",
    "    print(\"Raining ... \")\n",
    "    if muddy == True :\n",
    "        print(\"Sandel is neceasary ... \")\n",
    "else:\n",
    "    print(\"Not Raining ... \")"
   ]
  },
  {
   "cell_type": "code",
   "execution_count": 4,
   "id": "b4ebebdd",
   "metadata": {},
   "outputs": [
    {
     "name": "stdout",
     "output_type": "stream",
     "text": [
      "Food court \n"
     ]
    }
   ],
   "source": [
    "taka = 340\n",
    "\n",
    "if taka > 500 :\n",
    "    print(\"Ghurte jabo \")\n",
    "elif taka > 400 :\n",
    "    print(\"Basay order korbo \")\n",
    "elif taka > 300 :\n",
    "    print(\"Food court \")\n",
    "else :\n",
    "    print(\"Save taka\")"
   ]
  },
  {
   "cell_type": "code",
   "execution_count": 6,
   "id": "3a782b8c",
   "metadata": {},
   "outputs": [
    {
     "name": "stdout",
     "output_type": "stream",
     "text": [
      "Raining ... \n",
      "Sandel is neceasary ... \n"
     ]
    }
   ],
   "source": [
    "raining = True\n",
    "muddy = True\n",
    "\n",
    "if (raining == True) and (muddy == True) :\n",
    "    print(\"Raining ... \")\n",
    "    print(\"Sandel is neceasary ... \")\n",
    "else:\n",
    "    print(\"Not Raining ... \")"
   ]
  }
 ],
 "metadata": {
  "kernelspec": {
   "display_name": ".venv",
   "language": "python",
   "name": "python3"
  },
  "language_info": {
   "codemirror_mode": {
    "name": "ipython",
    "version": 3
   },
   "file_extension": ".py",
   "mimetype": "text/x-python",
   "name": "python",
   "nbconvert_exporter": "python",
   "pygments_lexer": "ipython3",
   "version": "3.12.3"
  }
 },
 "nbformat": 4,
 "nbformat_minor": 5
}
