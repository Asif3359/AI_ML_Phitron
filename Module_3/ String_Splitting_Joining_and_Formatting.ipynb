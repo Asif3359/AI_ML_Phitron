{
 "cells": [
  {
   "cell_type": "code",
   "execution_count": 2,
   "id": "d926201e-e60a-49e8-beb8-0fea4e061a71",
   "metadata": {},
   "outputs": [
    {
     "name": "stdout",
     "output_type": "stream",
     "text": [
      "['What', 'is', 'phitron', '?']\n",
      "What-is-phitron-?\n"
     ]
    }
   ],
   "source": [
    "prompt = \"What is phitron ?\"\n",
    "\n",
    "tokens = prompt.split()\n",
    "\n",
    "print(tokens)\n",
    "\n",
    "\n",
    "sentence = \"-\".join(tokens)\n",
    "print(sentence)\n"
   ]
  },
  {
   "cell_type": "code",
   "execution_count": 5,
   "id": "d1876124-a991-49c3-9cfb-32325857648c",
   "metadata": {},
   "outputs": [
    {
     "name": "stdout",
     "output_type": "stream",
     "text": [
      "His name is ASIF AHAMMAD. He is 23 years old \n",
      "Model accuricy is 88.88%\n"
     ]
    }
   ],
   "source": [
    "# Formeted string \n",
    "name = \"Asif Ahammad\"\n",
    "age = 23 \n",
    "hight = 5.4\n",
    "\n",
    "print(f\"His name is {name.upper()}. He is {age} years old \")\n",
    "\n",
    "\n",
    "\n",
    "model_acc= 0.8888\n",
    "print(f\"Model accuricy is {model_acc:.2%}\")\n"
   ]
  }
 ],
 "metadata": {
  "kernelspec": {
   "display_name": "Python 3 (ipykernel)",
   "language": "python",
   "name": "python3"
  },
  "language_info": {
   "codemirror_mode": {
    "name": "ipython",
    "version": 3
   },
   "file_extension": ".py",
   "mimetype": "text/x-python",
   "name": "python",
   "nbconvert_exporter": "python",
   "pygments_lexer": "ipython3",
   "version": "3.13.5"
  }
 },
 "nbformat": 4,
 "nbformat_minor": 5
}
