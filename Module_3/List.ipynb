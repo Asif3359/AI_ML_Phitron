{
 "cells": [
  {
   "cell_type": "code",
   "execution_count": 1,
   "id": "8d3be7af-a690-4cf7-bd97-37d679183de9",
   "metadata": {},
   "outputs": [
    {
     "name": "stdout",
     "output_type": "stream",
     "text": [
      "<class 'list'>\n"
     ]
    }
   ],
   "source": [
    "numbers = [100,90, 80,30,10]\n",
    "\n",
    "print(type(numbers))"
   ]
  },
  {
   "cell_type": "code",
   "execution_count": 3,
   "id": "97fce5da-2cd5-4fe2-a260-42ab34c3b6ff",
   "metadata": {},
   "outputs": [
    {
     "name": "stdout",
     "output_type": "stream",
     "text": [
      "100\n",
      "90\n"
     ]
    }
   ],
   "source": [
    "# Access list\n",
    "\n",
    "print(numbers[0])\n",
    "print(numbers[1])"
   ]
  },
  {
   "cell_type": "code",
   "execution_count": 15,
   "id": "dcf6c863-fe7a-4e07-a69d-1e2752d242a2",
   "metadata": {},
   "outputs": [
    {
     "name": "stdout",
     "output_type": "stream",
     "text": [
      "100 90 80 30 10 \n",
      "[100, 90, 80]\n",
      "[100, 90, 80, 33]\n",
      "[43, 100, 90, 80, 33]\n",
      "[43, 100, 90, 80]\n",
      "[100, 90, 80]\n"
     ]
    }
   ],
   "source": [
    "numbers = [100,90, 80,30,10]\n",
    "\n",
    "for i in numbers :\n",
    "    print(i, end=\" \")\n",
    "\n",
    "print()\n",
    "newNumbers = numbers[0:3]\n",
    "print(newNumbers)\n",
    "\n",
    "newNumbers.append(33)\n",
    "print(newNumbers)\n",
    "\n",
    "# insert(position,value)\n",
    "newNumbers.insert(0,43)\n",
    "print(newNumbers)\n",
    "\n",
    "\n",
    "newNumbers.pop()\n",
    "print(newNumbers)\n",
    "\n",
    "newNumbers.remove(43)\n",
    "print(newNumbers)"
   ]
  }
 ],
 "metadata": {
  "kernelspec": {
   "display_name": "Python 3 (ipykernel)",
   "language": "python",
   "name": "python3"
  },
  "language_info": {
   "codemirror_mode": {
    "name": "ipython",
    "version": 3
   },
   "file_extension": ".py",
   "mimetype": "text/x-python",
   "name": "python",
   "nbconvert_exporter": "python",
   "pygments_lexer": "ipython3",
   "version": "3.13.5"
  }
 },
 "nbformat": 4,
 "nbformat_minor": 5
}
