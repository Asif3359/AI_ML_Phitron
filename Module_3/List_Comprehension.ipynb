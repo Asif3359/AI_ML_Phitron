{
 "cells": [
  {
   "cell_type": "markdown",
   "id": "4a5827ef-c14e-4377-8934-e0ec9c2c4de7",
   "metadata": {},
   "source": [
    "## List Comprehension"
   ]
  },
  {
   "cell_type": "code",
   "execution_count": 14,
   "id": "8d8ba91f-70d9-429a-b85c-1ee0986396e1",
   "metadata": {},
   "outputs": [
    {
     "name": "stdout",
     "output_type": "stream",
     "text": [
      "[0, 2, 4, 6, 8, 10, 12, 14, 16, 18, 20]\n",
      "[0, 1, 2, 3, 4, 5, 6, 7, 8, 9, 10, 11, 12, 13, 14, 15, 16, 17, 18, 19, 20]\n",
      "[0, 2, 4, 6, 8, 10, 12, 14, 16, 18, 20]\n"
     ]
    }
   ],
   "source": [
    "even = []\n",
    "\n",
    "for i in range (21):\n",
    "    if i%2 == 0:\n",
    "        even.append(i)\n",
    "\n",
    "print(even)\n",
    "\n",
    "\n",
    "# way 2 \n",
    "# [expression loop condition]\n",
    "even2 = [x for x in range(21)]\n",
    "print(even2)\n",
    "\n",
    "even2 = [x for x in range(21) if x%2 == 0]\n",
    "print(even2)"
   ]
  },
  {
   "cell_type": "code",
   "execution_count": 18,
   "id": "4542b9f4-9abf-4f84-8c74-92920945c52c",
   "metadata": {},
   "outputs": [
    {
     "name": "stdout",
     "output_type": "stream",
     "text": [
      "['APPLE', 'BANANA', 'MANGO']\n"
     ]
    }
   ],
   "source": [
    "fruits = [\"apple\",\"banana\",\"mango\"]\n",
    "\n",
    "upper_fruits = [ x.upper() for x in fruits]\n",
    "print(upper_fruits)\n"
   ]
  },
  {
   "cell_type": "code",
   "execution_count": 30,
   "id": "295ebd6b-9e78-411f-a493-d92d1b918de2",
   "metadata": {},
   "outputs": [
    {
     "name": "stdout",
     "output_type": "stream",
     "text": [
      "i\n",
      "loo\n",
      "2\n",
      " blue- green-red\n",
      "[2, 4, 12, 8, 10]\n",
      "['d', 'b']\n",
      "2\n",
      "30\n",
      "[4, 16]\n"
     ]
    }
   ],
   "source": [
    "word = \"Pythonista\"\n",
    "print(word[-4])\n",
    "\n",
    "\n",
    "s = \"HelloWorld\"\n",
    "print (s[2:8:2])\n",
    "\n",
    "\n",
    "text = \"banana bandana\"\n",
    "print(text.count(\"ana\"))\n",
    "\n",
    "\n",
    "msg = \"red, green, blue\"\n",
    "colors = msg.split(\",\")\n",
    "print(\"-\".join(colors[::-1]))\n",
    "\n",
    "nums = [2,4,6,8,10]\n",
    "nums[2] = nums [2] * nums [0]\n",
    "print(nums)\n",
    "\n",
    "letters = ['a', 'b', 'c', 'd', 'e']\n",
    "print(letters [1:4][::-2])\n",
    "\n",
    "\n",
    "stack = []\n",
    "for i in range(1,4):\n",
    "    stack.append(i)\n",
    "stack.pop()\n",
    "print(stack[-1])\n",
    "\n",
    "\n",
    "queue = [10,20,30,40]\n",
    "queue.pop(1)\n",
    "queue.append(50)\n",
    "queue.pop(0)\n",
    "print(queue[0])\n",
    "\n",
    "\n",
    "nums = [1,2,3,4]\n",
    "squares = [x**2 for x in nums if x%2==0]\n",
    "print(squares)"
   ]
  }
 ],
 "metadata": {
  "kernelspec": {
   "display_name": "Python 3 (ipykernel)",
   "language": "python",
   "name": "python3"
  },
  "language_info": {
   "codemirror_mode": {
    "name": "ipython",
    "version": 3
   },
   "file_extension": ".py",
   "mimetype": "text/x-python",
   "name": "python",
   "nbconvert_exporter": "python",
   "pygments_lexer": "ipython3",
   "version": "3.13.5"
  }
 },
 "nbformat": 4,
 "nbformat_minor": 5
}
