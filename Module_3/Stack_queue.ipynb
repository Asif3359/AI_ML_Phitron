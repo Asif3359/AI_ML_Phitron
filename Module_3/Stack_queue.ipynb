{
 "cells": [
  {
   "cell_type": "code",
   "execution_count": 6,
   "id": "1c6d4931-1def-4225-8d25-f9b7684bf5b5",
   "metadata": {},
   "outputs": [
    {
     "name": "stdout",
     "output_type": "stream",
     "text": [
      "[10, 30, 70, 80, 90, 100]\n",
      "[100, 90, 80, 70, 30, 10]\n"
     ]
    }
   ],
   "source": [
    "numbers = [100,90,80,70,30,10]\n",
    "\n",
    "\n",
    "# Sort \n",
    "numbers.sort()\n",
    "print(numbers)\n",
    "\n",
    "# Reverse sort\n",
    "numbers.sort(reverse=True)\n",
    "print(numbers)"
   ]
  },
  {
   "cell_type": "markdown",
   "id": "40155b7d-7874-4aab-a7cb-8e3a7c023583",
   "metadata": {},
   "source": [
    "## Stack and queue"
   ]
  },
  {
   "cell_type": "code",
   "execution_count": 11,
   "id": "1b37b4b7-584f-40f3-a1c6-120033914b1f",
   "metadata": {},
   "outputs": [
    {
     "name": "stdout",
     "output_type": "stream",
     "text": [
      "[100, 90, 80, 70, 30, 10, 0]\n",
      "[100, 90, 80, 70, 30, 10]\n"
     ]
    }
   ],
   "source": [
    "numbers = [100,90,80,70,30,10]\n",
    "\n",
    "numbers.append(0)\n",
    "print(numbers)\n",
    "\n",
    "numbers.pop()\n",
    "print(numbers)"
   ]
  },
  {
   "cell_type": "code",
   "execution_count": 23,
   "id": "77d086a8-12d9-47f0-a2eb-6e2687d656cb",
   "metadata": {},
   "outputs": [
    {
     "name": "stdout",
     "output_type": "stream",
     "text": [
      "<class 'list'>\n",
      "[1, 2, 3, 4, 5, 6]\n",
      "6\n",
      "[1, 2, 3, 4, 5]\n",
      "5\n"
     ]
    }
   ],
   "source": [
    "# Stack \n",
    "stack = []\n",
    "print(type(stack))\n",
    "\n",
    "# Push in stake \n",
    "stack.append(1)\n",
    "stack.append(2)\n",
    "stack.append(3)\n",
    "stack.append(4)\n",
    "stack.append(5)\n",
    "stack.append(6)\n",
    "\n",
    "print(stack)\n",
    "print(stack.pop())\n",
    "print(stack)\n",
    "\n",
    "# top value \n",
    "print(stack[-1])"
   ]
  },
  {
   "cell_type": "code",
   "execution_count": null,
   "id": "2e933346-d7f2-47f6-aafa-19e1bd59fdd5",
   "metadata": {},
   "outputs": [
    {
     "name": "stdout",
     "output_type": "stream",
     "text": [
      "[1, 2, 3, 4, 5, 6]\n",
      "1\n",
      "[2, 3, 4, 5, 6]\n",
      "2\n"
     ]
    }
   ],
   "source": [
    "# queue\n",
    "\n",
    "queue = []\n",
    "\n",
    "queue.append(1)\n",
    "queue.append(2)\n",
    "queue.append(3)\n",
    "queue.append(4)\n",
    "queue.append(5)\n",
    "queue.append(6)\n",
    "\n",
    "\n",
    "print(queue)\n",
    "print(queue.pop(0))\n",
    "print(queue)\n",
    "\n",
    "# current font \n",
    "print(queue[0])"
   ]
  }
 ],
 "metadata": {
  "kernelspec": {
   "display_name": "Python 3 (ipykernel)",
   "language": "python",
   "name": "python3"
  },
  "language_info": {
   "codemirror_mode": {
    "name": "ipython",
    "version": 3
   },
   "file_extension": ".py",
   "mimetype": "text/x-python",
   "name": "python",
   "nbconvert_exporter": "python",
   "pygments_lexer": "ipython3",
   "version": "3.13.5"
  }
 },
 "nbformat": 4,
 "nbformat_minor": 5
}
