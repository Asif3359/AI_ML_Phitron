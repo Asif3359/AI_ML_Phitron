{
 "cells": [
  {
   "cell_type": "markdown",
   "id": "908bb00e-6c0e-43d6-8fa8-8771b7be5052",
   "metadata": {},
   "source": [
    "## String "
   ]
  },
  {
   "cell_type": "code",
   "execution_count": 2,
   "id": "e69634cf-cfa8-45f8-8c1f-6b2ccd6aa33c",
   "metadata": {},
   "outputs": [
    {
     "name": "stdout",
     "output_type": "stream",
     "text": [
      "Hello are you\n"
     ]
    }
   ],
   "source": [
    "print(\"Hello are you\")"
   ]
  },
  {
   "cell_type": "code",
   "execution_count": 4,
   "id": "decc4cd7-8a8e-44a2-a5bf-e7de862f81ee",
   "metadata": {},
   "outputs": [
    {
     "name": "stdout",
     "output_type": "stream",
     "text": [
      "What is your name ?\n",
      "<class 'str'>\n"
     ]
    }
   ],
   "source": [
    "prompt = \"What is your name ?\"\n",
    "\n",
    "print(prompt)\n",
    "print(type(prompt))"
   ]
  },
  {
   "cell_type": "code",
   "execution_count": 9,
   "id": "fcdd5061-1974-4315-b61c-739c4d4a4705",
   "metadata": {},
   "outputs": [
    {
     "name": "stdout",
     "output_type": "stream",
     "text": [
      "1. Tell me about your self ?\n",
      "2. What are the issues you have been facing ?\n"
     ]
    }
   ],
   "source": [
    "message = \"\"\"1. Tell me about your self ?\n",
    "2. What are the issues you have been facing ?\"\"\"\n",
    "\n",
    "\n",
    "print(message)"
   ]
  },
  {
   "cell_type": "markdown",
   "id": "3354e18d-b74b-46f4-915e-859fd1b14f45",
   "metadata": {},
   "source": [
    "## Indexing and Slicing "
   ]
  },
  {
   "cell_type": "code",
   "execution_count": 12,
   "id": "7a058703-fc65-488c-a5cb-851c93c2d44a",
   "metadata": {},
   "outputs": [
    {
     "name": "stdout",
     "output_type": "stream",
     "text": [
      "H\n",
      "H e l l o   w o r l d "
     ]
    }
   ],
   "source": [
    "string = \"Hello world\"\n",
    "\n",
    "# string[start:end:step]\n",
    "print(string[0])\n",
    "\n",
    "for i in string:\n",
    "    print(i, end=\" \")"
   ]
  },
  {
   "cell_type": "code",
   "execution_count": 23,
   "id": "bd0c94c7-ed2a-4600-a944-fb578b72ec8e",
   "metadata": {},
   "outputs": [
    {
     "name": "stdout",
     "output_type": "stream",
     "text": [
      "1. Tell me about your self ?\n",
      "?\n",
      " \n",
      "f\n",
      "l\n",
      "e\n"
     ]
    }
   ],
   "source": [
    "message = \"\"\"1. Tell me about your self ?\n",
    "2. What are the issues you have been facing ?\"\"\"\n",
    "\n",
    "first_message = message[0:28]\n",
    "\n",
    "print(first_message)\n",
    "print(first_message[-1])\n",
    "print(first_message[-2])\n",
    "print(first_message[-3])\n",
    "print(first_message[-4])\n",
    "print(first_message[-5])"
   ]
  }
 ],
 "metadata": {
  "kernelspec": {
   "display_name": "Python 3 (ipykernel)",
   "language": "python",
   "name": "python3"
  },
  "language_info": {
   "codemirror_mode": {
    "name": "ipython",
    "version": 3
   },
   "file_extension": ".py",
   "mimetype": "text/x-python",
   "name": "python",
   "nbconvert_exporter": "python",
   "pygments_lexer": "ipython3",
   "version": "3.13.5"
  }
 },
 "nbformat": 4,
 "nbformat_minor": 5
}
