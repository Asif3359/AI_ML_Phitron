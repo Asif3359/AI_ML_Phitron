{
 "cells": [
  {
   "cell_type": "code",
   "execution_count": 17,
   "id": "d95ccc00-66d5-4a69-b92c-fcda53c53343",
   "metadata": {},
   "outputs": [
    {
     "name": "stdout",
     "output_type": "stream",
     "text": [
      "39\n",
      "True\n",
      "False\n",
      "True\n",
      "11\n",
      "32\n",
      "2\n",
      "welcome to phitron ai/ml course ai/ml phitron\n"
     ]
    }
   ],
   "source": [
    "string = \"Welcome to Phitron ML course ML Phitron\"\n",
    "\n",
    "# Length\n",
    "print(len(string))\n",
    "print( \"Phitron\" in string)\n",
    "print( \"phitron\" in string)\n",
    "\n",
    "string = string.lower()\n",
    "print( \"phitron\" in string)\n",
    "\n",
    "index = string.find(\"phitron\")\n",
    "print(index)\n",
    "\n",
    "rindex = string.rfind(\"phitron\")\n",
    "print(rindex)\n",
    "\n",
    "\n",
    "count = string.count(\"phitron\")\n",
    "print(count)\n",
    "\n",
    "string = string.replace(\"ml\", \"ai/ml\")\n",
    "print(string)\n",
    "\n"
   ]
  }
 ],
 "metadata": {
  "kernelspec": {
   "display_name": "Python 3 (ipykernel)",
   "language": "python",
   "name": "python3"
  },
  "language_info": {
   "codemirror_mode": {
    "name": "ipython",
    "version": 3
   },
   "file_extension": ".py",
   "mimetype": "text/x-python",
   "name": "python",
   "nbconvert_exporter": "python",
   "pygments_lexer": "ipython3",
   "version": "3.13.5"
  }
 },
 "nbformat": 4,
 "nbformat_minor": 5
}
