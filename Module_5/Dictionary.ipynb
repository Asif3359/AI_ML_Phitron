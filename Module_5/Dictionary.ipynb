{
 "cells": [
  {
   "cell_type": "code",
   "execution_count": 9,
   "id": "809fa9c2-250a-4205-87a6-24d5082150ee",
   "metadata": {},
   "outputs": [
    {
     "name": "stdout",
     "output_type": "stream",
     "text": [
      "{'name': 'Asif Ahammad', 'age': 23, 'school': 'Bhuapur Pilot High school', 'score': [10, 20, 30, 40]}\n",
      "name - > Asif Ahammad\n",
      "age - > 23\n",
      "school - > Bhuapur Pilot High school\n",
      "score - > [10, 20, 30, 40]\n",
      "\n",
      "name - > Asif Ahammed (Zardari)\n",
      "age - > 23\n",
      "school - > Bhuapur Pilot High school\n",
      "score - > [10, 20, 30, 40]\n"
     ]
    }
   ],
   "source": [
    "# Dictionary (Key , value)\n",
    "# unordered \n",
    "# no indexing , slicing \n",
    "\n",
    "\n",
    "students = {\n",
    "    \"name\":\"Asif Ahammad\",\n",
    "    \"age\":23,\n",
    "    \"school\":\"Bhuapur Pilot High school\",\n",
    "    \"score\":[10,20,30,40]\n",
    "}\n",
    "\n",
    "print(students)\n",
    "\n",
    "# access use for loop \n",
    "\n",
    "for key , val in students.items() :\n",
    "    print(f\"{key} - > {val}\")\n",
    "\n",
    "print()\n",
    "students[\"name\"] = \"Asif Ahammed (Zardari)\"\n",
    "\n",
    "for key , val in students.items() :\n",
    "    print(f\"{key} - > {val}\")"
   ]
  },
  {
   "cell_type": "code",
   "execution_count": 20,
   "id": "de33da58-b474-437f-9897-9b82ad746f39",
   "metadata": {},
   "outputs": [
    {
     "name": "stdout",
     "output_type": "stream",
     "text": [
      "23\n",
      "None\n",
      "0\n",
      "('name', 'Asif Ahammad') ('age', 23) ('school', 'Bhuapur Pilot High school') ('score', [10, 20, 30, 40]) ('score_f', [10, 20, 30, 40])\n",
      "('name', 'Asif Ahammad') ('age', 23) ('school', 'Bhuapur Pilot High school') ('score', [10, 20, 30, 40])\n",
      "('name', 'Asif Ahammad') ('age', 23) ('school', 'Bhuapur Pilot High school') ('score', [10, 20, 30, 40])\n"
     ]
    }
   ],
   "source": [
    "students = {\n",
    "    \"name\":\"Asif Ahammad\",\n",
    "    \"age\":23,\n",
    "    \"school\":\"Bhuapur Pilot High school\",\n",
    "    \"score\":[10,20,30,40]\n",
    "}\n",
    "\n",
    "print(students.get(\"age\"))\n",
    "print(students.get(\"math\"))\n",
    "print(students.get(\"math\",0)) # if not have key then default value assign\n",
    "\n",
    "# update \n",
    "\n",
    "students.update({\"score_f\":[10,20,30,40]})\n",
    "\n",
    "print(*students.items())\n",
    "\n",
    "# delete \n",
    "\n",
    "del students[\"score_f\"]\n",
    "print(*students.items())\n",
    "\n",
    "\n",
    "# copy \n",
    "\n",
    "st = students.copy()\n",
    "print(*st.items())"
   ]
  },
  {
   "cell_type": "code",
   "execution_count": 28,
   "id": "01bfb3b8-4ace-4600-bfa1-5b2aebb24bf3",
   "metadata": {},
   "outputs": [
    {
     "name": "stdout",
     "output_type": "stream",
     "text": [
      "<class 'dict_keys'> dict_keys(['name', 'age', 'school', 'score', 'phone'])\n",
      "<class 'dict_values'> dict_values(['Asif Ahammad', 23, 'Bhuapur Pilot High school', [10, 20, 30, 40], '01789846200'])\n",
      "<class 'dict_items'> dict_items([('name', 'Asif Ahammad'), ('age', 23), ('school', 'Bhuapur Pilot High school'), ('score', [10, 20, 30, 40]), ('phone', '01789846200')])\n"
     ]
    }
   ],
   "source": [
    "# dict view methods \n",
    "\n",
    "students = {\n",
    "    \"name\":\"Asif Ahammad\",\n",
    "    \"age\":23,\n",
    "    \"school\":\"Bhuapur Pilot High school\",\n",
    "    \"score\":[10,20,30,40]\n",
    "}\n",
    "# keys\n",
    "keys = students.keys()\n",
    "\n",
    "students.update({\"phone\":\"01789846204\"})\n",
    "\n",
    "print(type(keys),keys)\n",
    "\n",
    "\n",
    "# values\n",
    "values = students.values()\n",
    "\n",
    "students.update({\"phone\":\"01789846200\"})\n",
    "\n",
    "print(type(values),values)\n",
    "\n",
    "\n",
    "# items \n",
    "\n",
    "items = students.items()\n",
    "\n",
    "print(type(items),items)\n"
   ]
  },
  {
   "cell_type": "code",
   "execution_count": 30,
   "id": "6538c872-5a70-4037-9f95-2367771fb60b",
   "metadata": {},
   "outputs": [
    {
     "name": "stdout",
     "output_type": "stream",
     "text": [
      "name : Asif Ahammad\n",
      "age : 23\n",
      "school : Bhuapur Pilot High school\n",
      "score : [10, 20, 30, 40]\n"
     ]
    }
   ],
   "source": [
    "# Iteration\n",
    "students = {\n",
    "    \"name\":\"Asif Ahammad\",\n",
    "    \"age\":23,\n",
    "    \"school\":\"Bhuapur Pilot High school\",\n",
    "    \"score\":[10,20,30,40]\n",
    "}\n",
    "\n",
    "for key,val in students.items() :\n",
    "    print(f\"{key} : {val}\")\n"
   ]
  },
  {
   "cell_type": "code",
   "execution_count": 36,
   "id": "af56a27a-b1a6-46d5-b95d-da826bba3976",
   "metadata": {},
   "outputs": [
    {
     "name": "stdout",
     "output_type": "stream",
     "text": [
      "{1: 1, 2: 4, 3: 9, 4: 16, 5: 25, 6: 36, 7: 49, 8: 64, 9: 81, 10: 100}\n",
      "{2: 4, 4: 16, 6: 36, 8: 64, 10: 100}\n"
     ]
    }
   ],
   "source": [
    "# Dictionary Comprehension\n",
    "\n",
    "square = {x:x**2 for x in range(1,11)}\n",
    "\n",
    "print(square)\n",
    "\n",
    "\n",
    "square = {x:x**2 for x in range(1,11) if x%2 == 0}\n",
    "\n",
    "print(square)"
   ]
  },
  {
   "cell_type": "code",
   "execution_count": 37,
   "id": "43b5d245-f69a-4bd9-ac1b-407e04622e2b",
   "metadata": {},
   "outputs": [
    {
     "name": "stdout",
     "output_type": "stream",
     "text": [
      "{'Dhaka': (23.8103, 90.4125), 'Rajshahi': (24.3745, 88.6042), 'Chattogram': (22.3569, 91.7832)}\n"
     ]
    }
   ],
   "source": [
    "#  co+ordinate list of tuple   \n",
    "# locations list of string \n",
    "\n",
    "coordinate_list = [(23.8103, 90.4125), (24.3745, 88.6042), (22.3569, 91.7832)]\n",
    "locations_list = [\"Dhaka\", \"Rajshahi\", \"Chattogram\"]\n",
    "\n",
    "\n",
    "exact_loc = { locations : coordinate for locations , coordinate in zip(locations_list,coordinate_list)  }\n",
    "\n",
    "print(exact_loc)\n"
   ]
  }
 ],
 "metadata": {
  "kernelspec": {
   "display_name": "Python 3 (ipykernel)",
   "language": "python",
   "name": "python3"
  },
  "language_info": {
   "codemirror_mode": {
    "name": "ipython",
    "version": 3
   },
   "file_extension": ".py",
   "mimetype": "text/x-python",
   "name": "python",
   "nbconvert_exporter": "python",
   "pygments_lexer": "ipython3",
   "version": "3.13.5"
  }
 },
 "nbformat": 4,
 "nbformat_minor": 5
}
