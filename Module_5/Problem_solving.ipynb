{
 "cells": [
  {
   "cell_type": "markdown",
   "id": "1b7e3c7f-5d6f-4990-a067-905b46868807",
   "metadata": {},
   "source": [
    "## Given a list, make a list with unique values "
   ]
  },
  {
   "cell_type": "code",
   "execution_count": 3,
   "id": "7d5bb24b-cdc5-4f5a-b884-2129fe30c9cb",
   "metadata": {},
   "outputs": [
    {
     "name": "stdout",
     "output_type": "stream",
     "text": [
      "[10, 20, 50, 30]\n"
     ]
    }
   ],
   "source": [
    "lst = [10,20,10,30,30,50,30,10,20,10,10]\n",
    "sets = set(lst)\n",
    "ans = list(sets)\n",
    "print(ans)"
   ]
  },
  {
   "cell_type": "code",
   "execution_count": 10,
   "id": "ee6613e4-375e-4932-969d-a882b5553307",
   "metadata": {},
   "outputs": [
    {
     "name": "stdout",
     "output_type": "stream",
     "text": [
      "{'The': 2, 'quick': 2, 'brown': 1, 'fox': 1, 'jumps': 1, 'over': 1, 'the': 2, 'lazy': 2, 'dog': 5, 'is': 2, 'not': 1, 'a': 2}\n"
     ]
    }
   ],
   "source": [
    "string = \"\"\"The quick brown fox jumps over the lazy dog The dog is not a lazy dog the dog is a quick dog\"\"\"\n",
    "\n",
    "words = string.split()\n",
    "\n",
    "dic = dict()\n",
    "{'a': 1, 'b': 2}.keys()\n",
    "for word in words :\n",
    "    dic.update({word:words.count(word)})\n",
    "\n",
    "\n",
    "print(dic)"
   ]
  },
  {
   "cell_type": "code",
   "execution_count": 11,
   "id": "7a02cf73-ad8f-4b9c-b9e3-efedf196a057",
   "metadata": {},
   "outputs": [
    {
     "data": {
      "text/plain": [
       "dict_keys(['a', 'b'])"
      ]
     },
     "execution_count": 11,
     "metadata": {},
     "output_type": "execute_result"
    }
   ],
   "source": [
    "{'a': 1, 'b': 2}.keys()"
   ]
  }
 ],
 "metadata": {
  "kernelspec": {
   "display_name": "Python 3 (ipykernel)",
   "language": "python",
   "name": "python3"
  },
  "language_info": {
   "codemirror_mode": {
    "name": "ipython",
    "version": 3
   },
   "file_extension": ".py",
   "mimetype": "text/x-python",
   "name": "python",
   "nbconvert_exporter": "python",
   "pygments_lexer": "ipython3",
   "version": "3.13.5"
  }
 },
 "nbformat": 4,
 "nbformat_minor": 5
}
