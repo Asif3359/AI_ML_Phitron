{
 "cells": [
  {
   "cell_type": "code",
   "execution_count": null,
   "id": "0568604a-c38b-4dec-81fb-1f027cb19b8a",
   "metadata": {},
   "outputs": [],
   "source": [
    "# Sets only unique element store ,\n",
    "# Unorder \n",
    "# no indexing,slicing "
   ]
  },
  {
   "cell_type": "code",
   "execution_count": 1,
   "id": "1cb6aa34-112b-4aeb-a84c-ca6cc1903f6a",
   "metadata": {},
   "outputs": [
    {
     "name": "stdout",
     "output_type": "stream",
     "text": [
      "<class 'set'> {0, 1, 2, 3, 4, 5, 6, 7}\n"
     ]
    }
   ],
   "source": [
    "A = {1,2,2,3,4,4,5,6,7,2,3,0}\n",
    "\n",
    "print(type(A),A)\n"
   ]
  },
  {
   "cell_type": "code",
   "execution_count": 3,
   "id": "d74636f9-c1c4-4988-9acd-a48ef70e8ddb",
   "metadata": {},
   "outputs": [
    {
     "name": "stdout",
     "output_type": "stream",
     "text": [
      "<class 'list'>\n",
      "<class 'tuple'>\n",
      "<class 'dict'>\n",
      "<class 'set'>\n"
     ]
    }
   ],
   "source": [
    "B = []\n",
    "print(type(B))\n",
    "\n",
    "C = ()\n",
    "print(type(C))\n",
    "\n",
    "D = {}\n",
    "print(type(D))\n",
    "\n",
    "E = set()\n",
    "print(type(E))"
   ]
  },
  {
   "cell_type": "code",
   "execution_count": 15,
   "id": "f976291b-3975-4ad0-bbfb-f226b2af10d8",
   "metadata": {},
   "outputs": [
    {
     "name": "stdout",
     "output_type": "stream",
     "text": [
      "Yes\n",
      "0 1 2 3 4 5 6 7 \n",
      "1 2 3 5 6 7 30\n",
      "{0, 1, 2, 3, 4, 5, 6, 7, 10, 50, 20, 60, 30, 31}\n",
      "{0, 1, 2, 3, 4, 5, 6, 7, 10, 20, 30, 31, 50, 60}\n",
      "{2, 3, 7}\n"
     ]
    }
   ],
   "source": [
    "A = {1,2,2,3,4,4,5,6,7,2,3,0}\n",
    "B = {10,20,2,3,4,4,50,60,7,2,31,0}\n",
    "if (3 in A ) :\n",
    "    print(\"Yes\")\n",
    "else:\n",
    "    print(\"NO\")\n",
    "\n",
    "\n",
    "for element in A :\n",
    "    print(element, end=\" \")\n",
    "\n",
    "print()\n",
    "A.add(30)\n",
    "A.pop()\n",
    "A.remove(4)\n",
    "print(*A)\n",
    "\n",
    "print(B.union(A))\n",
    "print(A.union(B))\n",
    "print(A.intersection(B))\n"
   ]
  }
 ],
 "metadata": {
  "kernelspec": {
   "display_name": "Python 3 (ipykernel)",
   "language": "python",
   "name": "python3"
  },
  "language_info": {
   "codemirror_mode": {
    "name": "ipython",
    "version": 3
   },
   "file_extension": ".py",
   "mimetype": "text/x-python",
   "name": "python",
   "nbconvert_exporter": "python",
   "pygments_lexer": "ipython3",
   "version": "3.13.5"
  }
 },
 "nbformat": 4,
 "nbformat_minor": 5
}
