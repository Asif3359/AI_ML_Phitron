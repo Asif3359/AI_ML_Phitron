{
 "cells": [
  {
   "cell_type": "code",
   "execution_count": 3,
   "id": "334232c6-db8a-49fd-988c-03e3188eaabd",
   "metadata": {},
   "outputs": [
    {
     "name": "stdout",
     "output_type": "stream",
     "text": [
      "1 2 3 4\n",
      "<class 'tuple'>\n"
     ]
    }
   ],
   "source": [
    "# Tupels  immutable\n",
    "\n",
    "tup = (1,2,3,4)\n",
    "\n",
    "print(*tup)\n",
    "print(type(tup))"
   ]
  },
  {
   "cell_type": "code",
   "execution_count": 4,
   "id": "3a571a5a-9002-45a4-971d-540f9569ea10",
   "metadata": {},
   "outputs": [
    {
     "name": "stdout",
     "output_type": "stream",
     "text": [
      "1 2 3 4 asif 4.5\n",
      "<class 'tuple'>\n"
     ]
    }
   ],
   "source": [
    "# Tupels \n",
    "\n",
    "tup = (1,2,3,4,\"asif\",4.5)\n",
    "\n",
    "print(*tup)\n",
    "print(type(tup))"
   ]
  },
  {
   "cell_type": "code",
   "execution_count": 6,
   "id": "cad1e887-fe0f-4cc9-9625-a5341b9d1a61",
   "metadata": {},
   "outputs": [
    {
     "name": "stdout",
     "output_type": "stream",
     "text": [
      "1\n",
      "<class 'int'>\n"
     ]
    }
   ],
   "source": [
    "# Tupels \n",
    "\n",
    "tup = (1)\n",
    "\n",
    "print(tup)\n",
    "print(type(tup))"
   ]
  },
  {
   "cell_type": "code",
   "execution_count": 8,
   "id": "0e7e1a13-f500-4ece-b184-c05f138d2f02",
   "metadata": {},
   "outputs": [
    {
     "name": "stdout",
     "output_type": "stream",
     "text": [
      "1 2 3\n",
      "<class 'tuple'>\n",
      "2\n"
     ]
    }
   ],
   "source": [
    "lst = [1,2,3]\n",
    "tup = tuple(lst)\n",
    "\n",
    "print(*tup)\n",
    "print(type(tup))\n",
    "\n",
    "print(tup[1])\n"
   ]
  },
  {
   "cell_type": "code",
   "execution_count": 9,
   "id": "6114ea75-c681-41bf-9081-a4cfd22cfa7b",
   "metadata": {},
   "outputs": [
    {
     "name": "stdout",
     "output_type": "stream",
     "text": [
      "1 2 3\n"
     ]
    }
   ],
   "source": [
    "tup = (1,2,3,4,\"asif\",4.5)\n",
    "\n",
    "new_tup = tup[0:3]\n",
    "print(*new_tup)"
   ]
  },
  {
   "cell_type": "code",
   "execution_count": 10,
   "id": "2cb5dbfb-2dc9-4bd9-8392-1e7a724ec339",
   "metadata": {},
   "outputs": [
    {
     "name": "stdout",
     "output_type": "stream",
     "text": [
      "10 2 3 5 90\n"
     ]
    }
   ],
   "source": [
    "# immutablity \n",
    "\n",
    "# List is mutable means i cans change \n",
    "\n",
    "# but in tuple i can not change anythong so its immutable \n",
    "lst = [10,2,3,5]\n",
    "lst.append(90)\n",
    "\n",
    "print(*lst)"
   ]
  },
  {
   "cell_type": "code",
   "execution_count": 13,
   "id": "a567d17f-a074-4481-8cf6-e081af97fe56",
   "metadata": {},
   "outputs": [
    {
     "name": "stdout",
     "output_type": "stream",
     "text": [
      "5\n",
      "3\n"
     ]
    }
   ],
   "source": [
    "tup = (1,2,3,4,\"asif\",4.5,4,4,4,4)\n",
    "\n",
    "print(tup.count(4))\n",
    "print(tup.index(4))"
   ]
  }
 ],
 "metadata": {
  "kernelspec": {
   "display_name": "Python 3 (ipykernel)",
   "language": "python",
   "name": "python3"
  },
  "language_info": {
   "codemirror_mode": {
    "name": "ipython",
    "version": 3
   },
   "file_extension": ".py",
   "mimetype": "text/x-python",
   "name": "python",
   "nbconvert_exporter": "python",
   "pygments_lexer": "ipython3",
   "version": "3.13.5"
  }
 },
 "nbformat": 4,
 "nbformat_minor": 5
}
