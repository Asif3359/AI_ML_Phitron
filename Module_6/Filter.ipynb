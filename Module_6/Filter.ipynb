{
 "cells": [
  {
   "cell_type": "code",
   "execution_count": 1,
   "id": "64647b3d-cd5b-40a8-926d-f90b90f748f6",
   "metadata": {},
   "outputs": [
    {
     "name": "stdout",
     "output_type": "stream",
     "text": [
      "[0, 1, 2, 3, 4, 5, 6, 7, 8, 9, 10, 11, 12, 13, 14, 15, 16, 17, 18, 19, 20, 21, 22, 23, 24, 25, 26, 27, 28, 29, 30, 31, 32, 33, 34, 35, 36, 37, 38, 39, 40, 41, 42, 43, 44, 45, 46, 47, 48, 49, 50, 51, 52, 53, 54, 55, 56, 57, 58, 59, 60, 61, 62, 63, 64, 65, 66, 67, 68, 69, 70, 71, 72, 73, 74, 75, 76, 77, 78, 79, 80, 81, 82, 83, 84, 85, 86, 87, 88, 89, 90, 91, 92, 93, 94, 95, 96, 97, 98, 99, 100]\n"
     ]
    }
   ],
   "source": [
    "# Filter in python \n",
    "\n",
    "lst = [x for x in range(101)]\n",
    "print(lst)"
   ]
  },
  {
   "cell_type": "code",
   "execution_count": 4,
   "id": "33b6e475-1206-41eb-8404-29d537810f7b",
   "metadata": {},
   "outputs": [
    {
     "name": "stdout",
     "output_type": "stream",
     "text": [
      "[0, 2, 4, 6, 8, 10, 12, 14, 16, 18, 20, 22, 24, 26, 28, 30, 32, 34, 36, 38, 40, 42, 44, 46, 48, 50, 52, 54, 56, 58, 60, 62, 64, 66, 68, 70, 72, 74, 76, 78, 80, 82, 84, 86, 88, 90, 92, 94, 96, 98, 100]\n",
      "[51, 52, 53, 54, 55, 56, 57, 58, 59, 60, 61, 62, 63, 64, 65, 66, 67, 68, 69, 70, 71, 72, 73, 74, 75, 76, 77, 78, 79, 80, 81, 82, 83, 84, 85, 86, 87, 88, 89, 90, 91, 92, 93, 94, 95, 96, 97, 98, 99, 100]\n"
     ]
    }
   ],
   "source": [
    "# Filter in python \n",
    "\n",
    "lst = [x for x in range(101)]\n",
    "\n",
    "even = list(filter(lambda x : x%2 ==0, lst))\n",
    "print(even)\n",
    "\n",
    "\n",
    "fifty_upp = list(filter(lambda x : x > 50, lst))\n",
    "print(fifty_upp)"
   ]
  },
  {
   "cell_type": "code",
   "execution_count": 7,
   "id": "93463c10-ac8b-4a6c-88df-89a9aeffce02",
   "metadata": {},
   "outputs": [
    {
     "name": "stdout",
     "output_type": "stream",
     "text": [
      "[1, 'Hello', [1, 2], True]\n"
     ]
    }
   ],
   "source": [
    "data = [0,1,'',None, \"Hello\",[],[1,2],None,True,False,None]\n",
    "\n",
    "cleaned_data = list(filter(None, data))\n",
    "print(cleaned_data)"
   ]
  },
  {
   "cell_type": "code",
   "execution_count": 12,
   "id": "8e299a56-fc93-4228-b6d5-7b46bd35775f",
   "metadata": {},
   "outputs": [
    {
     "name": "stdout",
     "output_type": "stream",
     "text": [
      "eo o eoe o ai\n"
     ]
    }
   ],
   "source": [
    "# string \n",
    "\n",
    "string = \"hello World welcome top ai\"\n",
    "\n",
    "vow = list(filter( lambda x : x in 'aeiou ', string))\n",
    "\n",
    "print(\"\".join(vow))"
   ]
  },
  {
   "cell_type": "code",
   "execution_count": 13,
   "id": "21817291-da5d-40f8-890f-8402fac7b73d",
   "metadata": {},
   "outputs": [
    {
     "name": "stdout",
     "output_type": "stream",
     "text": [
      "[2, 4]\n"
     ]
    }
   ],
   "source": [
    "print(list(filter(lambda x: x%2==0, [1,2,3,4])))"
   ]
  }
 ],
 "metadata": {
  "kernelspec": {
   "display_name": "Python 3 (ipykernel)",
   "language": "python",
   "name": "python3"
  },
  "language_info": {
   "codemirror_mode": {
    "name": "ipython",
    "version": 3
   },
   "file_extension": ".py",
   "mimetype": "text/x-python",
   "name": "python",
   "nbconvert_exporter": "python",
   "pygments_lexer": "ipython3",
   "version": "3.13.5"
  }
 },
 "nbformat": 4,
 "nbformat_minor": 5
}
