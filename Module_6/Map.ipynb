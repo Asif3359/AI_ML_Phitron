{
 "cells": [
  {
   "cell_type": "code",
   "execution_count": 3,
   "id": "8402f537-cf8b-438f-8f02-c5cc83f921f0",
   "metadata": {},
   "outputs": [
    {
     "name": "stdout",
     "output_type": "stream",
     "text": [
      "[1, 4, 9, 16, 25, 36, 49, 64, 81, 100]\n"
     ]
    }
   ],
   "source": [
    "# map functions in python \n",
    "\n",
    "\n",
    "lst = [1,2,3,4,5,6,7,8,9,10]\n",
    "\n",
    "def sq (x):\n",
    "    return x**2 \n",
    "\n",
    "# use map function \n",
    "\n",
    "lst = list(map(sq, lst))\n",
    "\n",
    "print(lst)\n",
    "\n"
   ]
  },
  {
   "cell_type": "code",
   "execution_count": 11,
   "id": "33560c04-6a24-4264-a641-75efee62f98b",
   "metadata": {},
   "outputs": [
    {
     "name": "stdout",
     "output_type": "stream",
     "text": [
      "HELLO WORLD WELCOME TOP AI\n",
      "Hello World welcome top Ai\n"
     ]
    }
   ],
   "source": [
    "string = \"Hello World welcome top Ai\"\n",
    "\n",
    "string1 = list(map(str.upper,string))\n",
    "\n",
    "print(\"\".join(string1))\n",
    "print(string)\n"
   ]
  },
  {
   "cell_type": "code",
   "execution_count": 20,
   "id": "71253a7a-bca1-4372-ba39-4ae72910431f",
   "metadata": {},
   "outputs": [
    {
     "name": "stdout",
     "output_type": "stream",
     "text": [
      "[1, 4, 3, 16, 5, 36, 7, 64, 9, 100]\n"
     ]
    }
   ],
   "source": [
    "# map with lambda\n",
    "\n",
    "\n",
    "lst = [1,2,3,4,5,6,7,8,9,10]\n",
    "\n",
    "# def sq (x):\n",
    "#     return x**2 \n",
    "\n",
    "# use map function \n",
    "\n",
    "lst = list(map(lambda x:x**2 if x%2== 0 else x, lst))\n",
    "\n",
    "print(lst)\n",
    "\n"
   ]
  }
 ],
 "metadata": {
  "kernelspec": {
   "display_name": "Python 3 (ipykernel)",
   "language": "python",
   "name": "python3"
  },
  "language_info": {
   "codemirror_mode": {
    "name": "ipython",
    "version": 3
   },
   "file_extension": ".py",
   "mimetype": "text/x-python",
   "name": "python",
   "nbconvert_exporter": "python",
   "pygments_lexer": "ipython3",
   "version": "3.13.5"
  }
 },
 "nbformat": 4,
 "nbformat_minor": 5
}
