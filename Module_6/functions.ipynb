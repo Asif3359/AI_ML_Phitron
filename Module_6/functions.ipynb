{
 "cells": [
  {
   "cell_type": "code",
   "execution_count": 3,
   "id": "edd5c019-c01c-4392-8f68-54553f701cd9",
   "metadata": {},
   "outputs": [
    {
     "name": "stdout",
     "output_type": "stream",
     "text": [
      "7\n"
     ]
    }
   ],
   "source": [
    "def sum (a,b):\n",
    "    return a+b\n",
    "\n",
    "print(sum(3,4))"
   ]
  },
  {
   "cell_type": "code",
   "execution_count": 11,
   "id": "d9a35e00-97d4-49ea-9fdf-1298f975d502",
   "metadata": {},
   "outputs": [
    {
     "name": "stdout",
     "output_type": "stream",
     "text": [
      "-9\n",
      "4\n"
     ]
    }
   ],
   "source": [
    "# default parameters \n",
    "\n",
    "def sub(a=0,b=0) :\n",
    "    return a-b\n",
    "\n",
    "\n",
    "print(sub(b=9))\n",
    "print(sub(9,5))"
   ]
  },
  {
   "cell_type": "code",
   "execution_count": 13,
   "id": "d6e8f231-1e49-4f82-906e-0a7411182b9c",
   "metadata": {},
   "outputs": [
    {
     "name": "stdout",
     "output_type": "stream",
     "text": [
      "150\n"
     ]
    }
   ],
   "source": [
    "def arg (*args) :\n",
    "    sum = 0 \n",
    "    for i in args :\n",
    "        sum = sum + i \n",
    "    return sum \n",
    "\n",
    "\n",
    "print(arg(10,20,30,40,50))"
   ]
  },
  {
   "cell_type": "code",
   "execution_count": 17,
   "id": "b9103bb8-050f-475b-bc12-8a632d9d49b7",
   "metadata": {},
   "outputs": [
    {
     "name": "stdout",
     "output_type": "stream",
     "text": [
      "name : Asif Ahammed\n",
      "age : 23\n"
     ]
    }
   ],
   "source": [
    "def student(**kwargs):\n",
    "    for k,v in kwargs.items():\n",
    "        print(f\"{k} : {v}\")\n",
    "\n",
    "student(\n",
    "    name=\"Asif Ahammed\",\n",
    "    age=23,\n",
    ")\n"
   ]
  }
 ],
 "metadata": {
  "kernelspec": {
   "display_name": "Python 3 (ipykernel)",
   "language": "python",
   "name": "python3"
  },
  "language_info": {
   "codemirror_mode": {
    "name": "ipython",
    "version": 3
   },
   "file_extension": ".py",
   "mimetype": "text/x-python",
   "name": "python",
   "nbconvert_exporter": "python",
   "pygments_lexer": "ipython3",
   "version": "3.13.5"
  }
 },
 "nbformat": 4,
 "nbformat_minor": 5
}
