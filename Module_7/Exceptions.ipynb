{
 "cells": [
  {
   "cell_type": "code",
   "execution_count": 7,
   "id": "307003c1-2d53-4b9a-b336-dae1694e45e6",
   "metadata": {},
   "outputs": [
    {
     "name": "stdout",
     "output_type": "stream",
     "text": [
      "<class 'ZeroDivisionError'>\n",
      "You can devide any number with 0\n",
      "Hello world\n"
     ]
    }
   ],
   "source": [
    "# Exceptions\n",
    "\n",
    "try :\n",
    "    a = 10/0 \n",
    "except ZeroDivisionError:\n",
    "    print(ZeroDivisionError)\n",
    "    print(\"You can devide any number with 0\")\n",
    "\n",
    "print(\"Hello world\")\n"
   ]
  }
 ],
 "metadata": {
  "kernelspec": {
   "display_name": "Python 3 (ipykernel)",
   "language": "python",
   "name": "python3"
  },
  "language_info": {
   "codemirror_mode": {
    "name": "ipython",
    "version": 3
   },
   "file_extension": ".py",
   "mimetype": "text/x-python",
   "name": "python",
   "nbconvert_exporter": "python",
   "pygments_lexer": "ipython3",
   "version": "3.13.5"
  }
 },
 "nbformat": 4,
 "nbformat_minor": 5
}
