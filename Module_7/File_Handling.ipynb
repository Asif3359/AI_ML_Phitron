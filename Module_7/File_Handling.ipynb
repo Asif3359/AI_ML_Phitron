{
 "cells": [
  {
   "cell_type": "markdown",
   "id": "e0286d3a-bcdc-4c56-9759-05294776474e",
   "metadata": {},
   "source": [
    "## Read file"
   ]
  },
  {
   "cell_type": "code",
   "execution_count": 2,
   "id": "f9218418-2857-4d80-bb00-6870c1939f31",
   "metadata": {},
   "outputs": [
    {
     "name": "stdout",
     "output_type": "stream",
     "text": [
      "something comming in this file\n"
     ]
    }
   ],
   "source": [
    "# File Handling \n",
    "# open (location , mode) \n",
    "# mode  read , r just read data \n",
    "    # write , w existing data clear \n",
    "    # apend , a  existing data then just append\n",
    "\n",
    "file = open(\"sample.txt\", \"r\")\n",
    "content = file.read()\n",
    "print(content)\n"
   ]
  },
  {
   "cell_type": "code",
   "execution_count": 9,
   "id": "227e41c4-9533-449c-bd8e-1fa11e6efbae",
   "metadata": {},
   "outputs": [
    {
     "name": "stdout",
     "output_type": "stream",
     "text": [
      "['something comming in this file\\n', 'hey thare ..']\n",
      "True\n"
     ]
    }
   ],
   "source": [
    "file = open(\"sample.txt\", \"r\")\n",
    "content = file.readlines()\n",
    "print(content)\n",
    "file.close()\n",
    "print(file.closed)\n"
   ]
  },
  {
   "cell_type": "code",
   "execution_count": 10,
   "id": "f86eeff4-d479-48bb-847f-e4f012c5935f",
   "metadata": {},
   "outputs": [
    {
     "name": "stdout",
     "output_type": "stream",
     "text": [
      "['something comming in this file\\n', 'hey thare ..']\n",
      "True\n"
     ]
    }
   ],
   "source": [
    "with open(\"sample.txt\",\"r\") as file:\n",
    "    content = file.readlines()\n",
    "    print(content)\n",
    "\n",
    "print(file.closed)"
   ]
  },
  {
   "cell_type": "code",
   "execution_count": 13,
   "id": "281e2c35-3a88-418c-ba3a-c17c8e5c3d36",
   "metadata": {},
   "outputs": [
    {
     "name": "stdout",
     "output_type": "stream",
     "text": [
      "something comming in this file\n",
      "hey thare ..\n"
     ]
    }
   ],
   "source": [
    "with open(\"sample.txt\",\"r\") as file:\n",
    "    for line in file:\n",
    "        l = line.strip()\n",
    "        print(l)"
   ]
  },
  {
   "cell_type": "markdown",
   "id": "19fb6adb-930b-49e1-959f-ab81d46fa7b4",
   "metadata": {},
   "source": [
    "## Write and append file"
   ]
  },
  {
   "cell_type": "code",
   "execution_count": 22,
   "id": "ea07ed59-9de6-4dcc-81b3-6278036985a9",
   "metadata": {},
   "outputs": [
    {
     "name": "stdout",
     "output_type": "stream",
     "text": [
      "Hellow test ...\n",
      "Oke you dit it ..\n"
     ]
    }
   ],
   "source": [
    "# create a new file and write \n",
    "with open(\"test.txt\",\"w\") as file:\n",
    "    file.write(\"Hellow test ...\\n\")\n",
    "    file.write(\"Oke you dit it ..\")\n",
    "\n",
    "with open(\"test.txt\",\"r\") as file:\n",
    "    for line in file:\n",
    "        l = line.strip()\n",
    "        print(l)"
   ]
  },
  {
   "cell_type": "code",
   "execution_count": 33,
   "id": "77cacaa9-94e2-4975-b25a-b7a4d30d365c",
   "metadata": {},
   "outputs": [
    {
     "name": "stdout",
     "output_type": "stream",
     "text": [
      "Hellow test again ...\n",
      "Oke you dit it again ..\n"
     ]
    }
   ],
   "source": [
    "# writing on a existing file i\n",
    "# it overwrite file \n",
    "with open(\"test.txt\",\"w\") as file:\n",
    "    file.write(\"Hellow test again ...\\n\")\n",
    "    file.write(\"Oke you dit it again ..\\n\")\n",
    "\n",
    "with open(\"test.txt\",\"r\") as file:\n",
    "    for line in file:\n",
    "        l = line.strip()\n",
    "        print(l)\n"
   ]
  },
  {
   "cell_type": "code",
   "execution_count": 34,
   "id": "d509c13b-6077-4252-870d-8209ac7c6ce1",
   "metadata": {},
   "outputs": [
    {
     "name": "stdout",
     "output_type": "stream",
     "text": [
      "Hellow test again ...\n",
      "Oke you dit it again ..\n",
      "Hellow test again again...\n",
      "Oke you dit it again again..\n"
     ]
    }
   ],
   "source": [
    "# append on a existing file \n",
    "with open(\"test.txt\",\"a\") as file:\n",
    "    file.write(\"Hellow test again again...\\n\")\n",
    "    file.write(\"Oke you dit it again again..\\n\")\n",
    "\n",
    "with open(\"test.txt\",\"r\") as file:\n",
    "    for line in file:\n",
    "        l = line.strip()\n",
    "        print(l)"
   ]
  },
  {
   "cell_type": "code",
   "execution_count": 35,
   "id": "d57a8c50-1543-4e36-9761-be71ab67742a",
   "metadata": {},
   "outputs": [
    {
     "name": "stdout",
     "output_type": "stream",
     "text": [
      "Helloworlds\n"
     ]
    }
   ],
   "source": [
    "strings = [\"Hello\" , \"worlds\"]\n",
    "with open(\"test2.txt\",\"a\") as file:\n",
    "    file.writelines(strings)\n",
    "    \n",
    "with open(\"test2.txt\",\"r\") as file:\n",
    "    for line in file:\n",
    "        l = line.strip()\n",
    "        print(l)"
   ]
  }
 ],
 "metadata": {
  "kernelspec": {
   "display_name": "Python 3 (ipykernel)",
   "language": "python",
   "name": "python3"
  },
  "language_info": {
   "codemirror_mode": {
    "name": "ipython",
    "version": 3
   },
   "file_extension": ".py",
   "mimetype": "text/x-python",
   "name": "python",
   "nbconvert_exporter": "python",
   "pygments_lexer": "ipython3",
   "version": "3.13.5"
  }
 },
 "nbformat": 4,
 "nbformat_minor": 5
}
