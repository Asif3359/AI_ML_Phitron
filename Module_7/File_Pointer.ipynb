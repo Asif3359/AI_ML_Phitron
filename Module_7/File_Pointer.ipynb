{
 "cells": [
  {
   "cell_type": "code",
   "execution_count": 8,
   "id": "8f580a23-a3cb-41f9-acd4-fe1d4781f45f",
   "metadata": {},
   "outputs": [
    {
     "name": "stdout",
     "output_type": "stream",
     "text": [
      "0\n",
      "something comming in this file\n",
      "hey thare ..\n",
      "43\n"
     ]
    }
   ],
   "source": [
    "# File Pointer\n",
    "with open(\"sample.txt\",\"r\") as file:\n",
    "    print(file.tell())\n",
    "    print(file.read())\n",
    "    print(file.tell())"
   ]
  },
  {
   "cell_type": "code",
   "execution_count": 12,
   "id": "36cc0278-9f99-4d29-8100-848fec276c7d",
   "metadata": {},
   "outputs": [
    {
     "name": "stdout",
     "output_type": "stream",
     "text": [
      "0\n",
      "somet\n",
      "5\n",
      "hing comming in this file\n",
      "hey thare ..\n",
      "43\n"
     ]
    }
   ],
   "source": [
    "# File Pointer\n",
    "with open(\"sample.txt\",\"r\") as file:\n",
    "    print(file.tell())\n",
    "    print(file.read(5))\n",
    "    print(file.tell())\n",
    "    print(file.read())\n",
    "    print(file.tell())\n",
    "    "
   ]
  },
  {
   "cell_type": "code",
   "execution_count": 17,
   "id": "0a80cde1-0902-40fa-831a-b9ce60769f67",
   "metadata": {},
   "outputs": [
    {
     "name": "stdout",
     "output_type": "stream",
     "text": [
      "0\n",
      "5\n",
      "hing comming in this file\n",
      "hey thare ..\n",
      "0\n",
      "something comming in this file\n",
      "hey thare ..\n"
     ]
    }
   ],
   "source": [
    "# seek\n",
    "with open(\"sample.txt\",\"r\") as file:\n",
    "    print(file.tell())\n",
    "    file.seek(5)\n",
    "    print(file.tell())\n",
    "    print(file.read())\n",
    "    file.seek(0)\n",
    "    print(file.tell())\n",
    "    print(file.read())"
   ]
  },
  {
   "cell_type": "code",
   "execution_count": 38,
   "id": "79065259-da5b-4dd5-b9df-13e4a7258adb",
   "metadata": {},
   "outputs": [
    {
     "name": "stdout",
     "output_type": "stream",
     "text": [
      "Lines - 2\n",
      "Wors - 8\n",
      "Char - 36\n",
      "\n"
     ]
    }
   ],
   "source": [
    "from functools import reduce\n",
    "\n",
    "with open(\"sample.txt\",\"r\") as file:\n",
    "    strings = file.readlines()\n",
    "    total_lines = len(strings)\n",
    "    numbers_of_words = list(map(lambda x : len(x.split()),strings))\n",
    "    total_no_wors = reduce(lambda x,y : x+y, numbers_of_words)\n",
    "    strings = list(map(str.strip, strings))\n",
    "    strings = list(map(lambda x:x.replace(\" \",\"\"), strings))\n",
    "    number_of_char = list(map(lambda x : len(x),strings))\n",
    "    total_no_char = reduce(lambda x,y : x+y, number_of_char)\n",
    "\n",
    "    with open(\"counter.txt\",\"w\") as file:\n",
    "        file.write(f\"Lines - {total_lines}\\nWors - {total_no_wors}\\nChar - {total_no_char}\\n\")\n",
    "\n",
    "with open(\"counter.txt\",\"r\") as file:\n",
    "    print(file.read())\n",
    "        "
   ]
  },
  {
   "cell_type": "code",
   "execution_count": null,
   "id": "003a97c3-3232-43ca-9cce-f7db1ea8ec3e",
   "metadata": {},
   "outputs": [],
   "source": [
    "# read , writte use w+ mode "
   ]
  }
 ],
 "metadata": {
  "kernelspec": {
   "display_name": "Python 3 (ipykernel)",
   "language": "python",
   "name": "python3"
  },
  "language_info": {
   "codemirror_mode": {
    "name": "ipython",
    "version": 3
   },
   "file_extension": ".py",
   "mimetype": "text/x-python",
   "name": "python",
   "nbconvert_exporter": "python",
   "pygments_lexer": "ipython3",
   "version": "3.13.5"
  }
 },
 "nbformat": 4,
 "nbformat_minor": 5
}
