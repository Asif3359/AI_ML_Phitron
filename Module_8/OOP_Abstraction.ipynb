{
 "cells": [
  {
   "cell_type": "code",
   "execution_count": 2,
   "id": "8222d560-572a-4d10-9a67-8366262e932d",
   "metadata": {},
   "outputs": [
    {
     "name": "stdout",
     "output_type": "stream",
     "text": [
      "Making a call using IPhone\n"
     ]
    }
   ],
   "source": [
    "# OOP Abstraction\n",
    "\n",
    "from abc import  ABC , abstractmethod\n",
    "\n",
    "class Telephone(ABC):\n",
    "\n",
    "  @abstractmethod\n",
    "  def make_call(self):\n",
    "    pass\n",
    "\n",
    "\n",
    "\n",
    "class Sphone(Telephone):\n",
    "  def make_call(self):\n",
    "    print(\"Making a call using SPhone\")\n",
    "\n",
    "\n",
    "\n",
    "class Iphone(Telephone):\n",
    "   def make_call(self):\n",
    "    print(\"Making a call using IPhone\")\n",
    "\n",
    "ip = Iphone()\n",
    "\n",
    "ip.make_call()"
   ]
  }
 ],
 "metadata": {
  "kernelspec": {
   "display_name": "Python 3 (ipykernel)",
   "language": "python",
   "name": "python3"
  },
  "language_info": {
   "codemirror_mode": {
    "name": "ipython",
    "version": 3
   },
   "file_extension": ".py",
   "mimetype": "text/x-python",
   "name": "python",
   "nbconvert_exporter": "python",
   "pygments_lexer": "ipython3",
   "version": "3.13.5"
  }
 },
 "nbformat": 4,
 "nbformat_minor": 5
}
