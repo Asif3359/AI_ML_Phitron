{
 "cells": [
  {
   "cell_type": "code",
   "execution_count": 20,
   "id": "93ba8569-d58d-40b2-a5f4-a8cb7cda0929",
   "metadata": {},
   "outputs": [
    {
     "name": "stdout",
     "output_type": "stream",
     "text": [
      "My Phone\n",
      "17\n",
      "12caw\n",
      "\n",
      "Apple\n",
      "15\n",
      "12caw\n"
     ]
    }
   ],
   "source": [
    "# OOP Encapsulation\n",
    "\n",
    "class Mobile :\n",
    "    def __init__(self,name,model,imei):\n",
    "        self.__name =name\n",
    "        self.__model = model\n",
    "        self.__imei = imei # private\n",
    "    def get_name (self):\n",
    "        return self.__name\n",
    "        \n",
    "    def set_name(self,name):\n",
    "        self.__name =name\n",
    "        \n",
    "    def get_imei (self):\n",
    "        return self.__imei\n",
    "        \n",
    "    def get_model (self):\n",
    "        return self.__model\n",
    "        \n",
    "    def set_model(self,model):\n",
    "        self.__model = model\n",
    "\n",
    "iphone = Mobile(\"My Phone\",\"17\",\"12caw\")\n",
    "\n",
    "iphone.model = \"15\"\n",
    "iphone.imei = \"15\"\n",
    "\n",
    "print(iphone.get_name())\n",
    "print(iphone.get_model())\n",
    "print(iphone.get_imei())\n",
    "print()\n",
    "iphone.set_name(\"Apple\")\n",
    "iphone.set_model(\"15\")\n",
    "print(iphone.get_name())\n",
    "print(iphone.get_model())\n",
    "print(iphone.get_imei())\n"
   ]
  }
 ],
 "metadata": {
  "kernelspec": {
   "display_name": "Python 3 (ipykernel)",
   "language": "python",
   "name": "python3"
  },
  "language_info": {
   "codemirror_mode": {
    "name": "ipython",
    "version": 3
   },
   "file_extension": ".py",
   "mimetype": "text/x-python",
   "name": "python",
   "nbconvert_exporter": "python",
   "pygments_lexer": "ipython3",
   "version": "3.13.5"
  }
 },
 "nbformat": 4,
 "nbformat_minor": 5
}
