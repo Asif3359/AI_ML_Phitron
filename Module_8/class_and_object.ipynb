{
 "cells": [
  {
   "cell_type": "code",
   "execution_count": 4,
   "id": "66008e20-89c0-423a-8d2d-29018b87d774",
   "metadata": {},
   "outputs": [],
   "source": [
    "# class and object\n",
    "# class attributes \n",
    "class Phone :\n",
    "    category = \"Electronics\""
   ]
  },
  {
   "cell_type": "code",
   "execution_count": 6,
   "id": "3bb89cb6-a0b1-403d-91b9-b980c0ceb3e5",
   "metadata": {},
   "outputs": [
    {
     "name": "stdout",
     "output_type": "stream",
     "text": [
      "<class '__main__.Phone'>\n",
      "Super Electronics\n",
      "Electronics\n",
      "Electronics\n"
     ]
    }
   ],
   "source": [
    "# creating object\n",
    "\n",
    "apple = Phone()\n",
    "apple.category = \"Super Electronics\"\n",
    "blackberry = Phone()\n",
    "motorola = Phone()\n",
    "\n",
    "print(type(apple))\n",
    "\n",
    "\n",
    "print(apple.category)\n",
    "print(blackberry.category)\n",
    "print(motorola.category)\n",
    "\n"
   ]
  },
  {
   "cell_type": "code",
   "execution_count": 20,
   "id": "3db4e2e7-65f4-4d7c-aa53-a132222d26e3",
   "metadata": {},
   "outputs": [
    {
     "name": "stdout",
     "output_type": "stream",
     "text": [
      "Apple 15\n",
      "1000mh\n",
      "40Mpx\n",
      "\n",
      "motorola 15\n",
      "3000mh\n",
      "30Mpx\n"
     ]
    }
   ],
   "source": [
    "# instance attributes \n",
    "class Phone2 :\n",
    "    # constructure \n",
    "    def __init__(self,model,battery,camera):\n",
    "        self.model = model\n",
    "        self.battery = battery\n",
    "        self.camera = camera\n",
    "\n",
    "apple = Phone2(model=\"Apple 14\",battery=\"1000mh\", camera = \"40Mpx\")\n",
    "\n",
    "apple.model = \"Apple 15\"\n",
    "\n",
    "print(apple.model)\n",
    "print(apple.battery)\n",
    "print(apple.camera)\n",
    "\n",
    "\n",
    "print()\n",
    "motorola = Phone2(model=\"motorola 14\",battery=\"3000mh\", camera = \"30Mpx\")\n",
    "\n",
    "motorola.model = \"motorola 15\"\n",
    "\n",
    "print(motorola.model)\n",
    "print(motorola.battery)\n",
    "print(motorola.camera)\n"
   ]
  },
  {
   "cell_type": "code",
   "execution_count": 29,
   "id": "4be3e2ce-dc59-4f51-bff6-56cf66d37486",
   "metadata": {},
   "outputs": [
    {
     "name": "stdout",
     "output_type": "stream",
     "text": [
      "Apple 15\n",
      "1000mh\n",
      "40Mpx\n",
      "100\n",
      "Photo captured in Apple 15\n",
      "98\n",
      "\n",
      "motorola 15\n",
      "3000mh\n",
      "30Mpx\n",
      "100\n",
      "100\n"
     ]
    }
   ],
   "source": [
    "# instance attributes \n",
    "class Phone2 :\n",
    "    # constructure \n",
    "    def __init__(self,model,battery,camera, battery_percentage=100):\n",
    "        self.model = model\n",
    "        self.battery = battery\n",
    "        self.camera = camera\n",
    "        self.battery_percentage = battery_percentage\n",
    "    # methods \n",
    "    def charge(self , hour):\n",
    "        self.charge += hour\n",
    "    def capture(self, total_photo):\n",
    "        if (self.battery_percentage <= 0 ) :\n",
    "            print(\"No Photo\")\n",
    "        else:\n",
    "            self.battery_percentage -= total_photo\n",
    "            print(f\"Photo captured in {self.model}\")\n",
    "\n",
    "apple = Phone2(model=\"Apple 14\",battery=\"1000mh\", camera = \"40Mpx\")\n",
    "\n",
    "apple.model = \"Apple 15\"\n",
    "\n",
    "print(apple.model)\n",
    "print(apple.battery)\n",
    "print(apple.camera)\n",
    "print(apple.battery_percentage)\n",
    "\n",
    "apple.capture(2)\n",
    "print(apple.battery_percentage)\n",
    "\n",
    "\n",
    "\n",
    "print()\n",
    "motorola = Phone2(model=\"motorola 14\",battery=\"3000mh\", camera = \"30Mpx\")\n",
    "\n",
    "motorola.model = \"motorola 15\"\n",
    "\n",
    "print(motorola.model)\n",
    "print(motorola.battery)\n",
    "print(motorola.camera)\n",
    "print(motorola.battery_percentage)\n",
    "print(motorola.battery_percentage)\n"
   ]
  }
 ],
 "metadata": {
  "kernelspec": {
   "display_name": "Python 3 (ipykernel)",
   "language": "python",
   "name": "python3"
  },
  "language_info": {
   "codemirror_mode": {
    "name": "ipython",
    "version": 3
   },
   "file_extension": ".py",
   "mimetype": "text/x-python",
   "name": "python",
   "nbconvert_exporter": "python",
   "pygments_lexer": "ipython3",
   "version": "3.13.5"
  }
 },
 "nbformat": 4,
 "nbformat_minor": 5
}
