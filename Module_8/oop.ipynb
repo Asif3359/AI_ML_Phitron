{
 "cells": [
  {
   "cell_type": "code",
   "execution_count": 4,
   "id": "7b322123-2a1c-4ef2-8e09-10bcf41e8c83",
   "metadata": {},
   "outputs": [
    {
     "name": "stdout",
     "output_type": "stream",
     "text": [
      "Hello\n",
      "5\n"
     ]
    }
   ],
   "source": [
    "class Oop:\n",
    "    def say_hello(self):\n",
    "        print(\"Hello\")\n",
    "    def sum (self,a=0,b=0):\n",
    "        return a+b\n",
    "\n",
    "\n",
    "oop = Oop()\n",
    "oop.say_hello()\n",
    "\n",
    "print(oop.sum(2,3))"
   ]
  },
  {
   "cell_type": "code",
   "execution_count": 5,
   "id": "677d125e-4e3a-459b-8b82-01a75db842c9",
   "metadata": {},
   "outputs": [
    {
     "name": "stdout",
     "output_type": "stream",
     "text": [
      "5\n",
      "5\n"
     ]
    }
   ],
   "source": [
    "class Oop:\n",
    "    @staticmethod\n",
    "    def sum(a=0, b=0):\n",
    "        return a + b\n",
    "\n",
    "# Can call without creating instance\n",
    "print(Oop.sum(2, 3))  # Output: 5\n",
    "\n",
    "# Or with instance\n",
    "oop = Oop()\n",
    "print(oop.sum(2, 3))  # Also works"
   ]
  },
  {
   "cell_type": "code",
   "execution_count": null,
   "id": "e38275a3-9149-4de5-8c44-645485149137",
   "metadata": {},
   "outputs": [],
   "source": []
  }
 ],
 "metadata": {
  "kernelspec": {
   "display_name": "Python 3 (ipykernel)",
   "language": "python",
   "name": "python3"
  },
  "language_info": {
   "codemirror_mode": {
    "name": "ipython",
    "version": 3
   },
   "file_extension": ".py",
   "mimetype": "text/x-python",
   "name": "python",
   "nbconvert_exporter": "python",
   "pygments_lexer": "ipython3",
   "version": "3.13.5"
  }
 },
 "nbformat": 4,
 "nbformat_minor": 5
}
