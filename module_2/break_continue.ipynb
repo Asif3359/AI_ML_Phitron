{
 "cells": [
  {
   "cell_type": "code",
   "execution_count": 5,
   "id": "02d4c17c",
   "metadata": {},
   "outputs": [
    {
     "name": "stdout",
     "output_type": "stream",
     "text": [
      "1 added to sum\n",
      "3 added to sum\n",
      "5 added to sum\n",
      "7 added to sum\n",
      "9 added to sum\n",
      "25\n"
     ]
    }
   ],
   "source": [
    "sum = 0 \n",
    "\n",
    "for i in range(1,11) :\n",
    "\n",
    "    if i % 2 == 0 :\n",
    "        continue\n",
    "    sum = sum + i\n",
    "    print(i, \"added to sum\")\n",
    "\n",
    "print(sum)"
   ]
  },
  {
   "cell_type": "code",
   "execution_count": 8,
   "id": "1bd6af50",
   "metadata": {},
   "outputs": [
    {
     "name": "stdout",
     "output_type": "stream",
     "text": [
      "100\n"
     ]
    }
   ],
   "source": [
    "accuracy = 80 \n",
    "\n",
    "for i in range (30) :\n",
    "    accuracy += 1\n",
    "    if accuracy == 100 :\n",
    "        break\n",
    "\n",
    "print(accuracy)"
   ]
  },
  {
   "cell_type": "code",
   "execution_count": 10,
   "id": "c660223d",
   "metadata": {},
   "outputs": [
    {
     "name": "stdout",
     "output_type": "stream",
     "text": [
      "100\n"
     ]
    }
   ],
   "source": [
    "accuracy = 80 \n",
    "\n",
    "while True :\n",
    "    if accuracy == 100 :\n",
    "        break \n",
    "    accuracy += 1\n",
    "\n",
    "print(accuracy)"
   ]
  }
 ],
 "metadata": {
  "kernelspec": {
   "display_name": ".venv",
   "language": "python",
   "name": "python3"
  },
  "language_info": {
   "codemirror_mode": {
    "name": "ipython",
    "version": 3
   },
   "file_extension": ".py",
   "mimetype": "text/x-python",
   "name": "python",
   "nbconvert_exporter": "python",
   "pygments_lexer": "ipython3",
   "version": "3.12.3"
  }
 },
 "nbformat": 4,
 "nbformat_minor": 5
}
